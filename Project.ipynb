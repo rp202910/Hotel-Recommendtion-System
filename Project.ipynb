{
 "cells": [
  {
   "cell_type": "code",
   "execution_count": 1,
   "metadata": {},
   "outputs": [
    {
     "name": "stderr",
     "output_type": "stream",
     "text": [
      "C:\\Users\\Win10\\anaconda3\\lib\\site-packages\\tensorflow\\python\\framework\\dtypes.py:516: FutureWarning: Passing (type, 1) or '1type' as a synonym of type is deprecated; in a future version of numpy, it will be understood as (type, (1,)) / '(1,)type'.\n",
      "  _np_qint8 = np.dtype([(\"qint8\", np.int8, 1)])\n",
      "C:\\Users\\Win10\\anaconda3\\lib\\site-packages\\tensorflow\\python\\framework\\dtypes.py:517: FutureWarning: Passing (type, 1) or '1type' as a synonym of type is deprecated; in a future version of numpy, it will be understood as (type, (1,)) / '(1,)type'.\n",
      "  _np_quint8 = np.dtype([(\"quint8\", np.uint8, 1)])\n",
      "C:\\Users\\Win10\\anaconda3\\lib\\site-packages\\tensorflow\\python\\framework\\dtypes.py:518: FutureWarning: Passing (type, 1) or '1type' as a synonym of type is deprecated; in a future version of numpy, it will be understood as (type, (1,)) / '(1,)type'.\n",
      "  _np_qint16 = np.dtype([(\"qint16\", np.int16, 1)])\n",
      "C:\\Users\\Win10\\anaconda3\\lib\\site-packages\\tensorflow\\python\\framework\\dtypes.py:519: FutureWarning: Passing (type, 1) or '1type' as a synonym of type is deprecated; in a future version of numpy, it will be understood as (type, (1,)) / '(1,)type'.\n",
      "  _np_quint16 = np.dtype([(\"quint16\", np.uint16, 1)])\n",
      "C:\\Users\\Win10\\anaconda3\\lib\\site-packages\\tensorflow\\python\\framework\\dtypes.py:520: FutureWarning: Passing (type, 1) or '1type' as a synonym of type is deprecated; in a future version of numpy, it will be understood as (type, (1,)) / '(1,)type'.\n",
      "  _np_qint32 = np.dtype([(\"qint32\", np.int32, 1)])\n",
      "C:\\Users\\Win10\\anaconda3\\lib\\site-packages\\tensorflow\\python\\framework\\dtypes.py:525: FutureWarning: Passing (type, 1) or '1type' as a synonym of type is deprecated; in a future version of numpy, it will be understood as (type, (1,)) / '(1,)type'.\n",
      "  np_resource = np.dtype([(\"resource\", np.ubyte, 1)])\n",
      "C:\\Users\\Win10\\anaconda3\\lib\\site-packages\\tensorboard\\compat\\tensorflow_stub\\dtypes.py:541: FutureWarning: Passing (type, 1) or '1type' as a synonym of type is deprecated; in a future version of numpy, it will be understood as (type, (1,)) / '(1,)type'.\n",
      "  _np_qint8 = np.dtype([(\"qint8\", np.int8, 1)])\n",
      "C:\\Users\\Win10\\anaconda3\\lib\\site-packages\\tensorboard\\compat\\tensorflow_stub\\dtypes.py:542: FutureWarning: Passing (type, 1) or '1type' as a synonym of type is deprecated; in a future version of numpy, it will be understood as (type, (1,)) / '(1,)type'.\n",
      "  _np_quint8 = np.dtype([(\"quint8\", np.uint8, 1)])\n",
      "C:\\Users\\Win10\\anaconda3\\lib\\site-packages\\tensorboard\\compat\\tensorflow_stub\\dtypes.py:543: FutureWarning: Passing (type, 1) or '1type' as a synonym of type is deprecated; in a future version of numpy, it will be understood as (type, (1,)) / '(1,)type'.\n",
      "  _np_qint16 = np.dtype([(\"qint16\", np.int16, 1)])\n",
      "C:\\Users\\Win10\\anaconda3\\lib\\site-packages\\tensorboard\\compat\\tensorflow_stub\\dtypes.py:544: FutureWarning: Passing (type, 1) or '1type' as a synonym of type is deprecated; in a future version of numpy, it will be understood as (type, (1,)) / '(1,)type'.\n",
      "  _np_quint16 = np.dtype([(\"quint16\", np.uint16, 1)])\n",
      "C:\\Users\\Win10\\anaconda3\\lib\\site-packages\\tensorboard\\compat\\tensorflow_stub\\dtypes.py:545: FutureWarning: Passing (type, 1) or '1type' as a synonym of type is deprecated; in a future version of numpy, it will be understood as (type, (1,)) / '(1,)type'.\n",
      "  _np_qint32 = np.dtype([(\"qint32\", np.int32, 1)])\n",
      "C:\\Users\\Win10\\anaconda3\\lib\\site-packages\\tensorboard\\compat\\tensorflow_stub\\dtypes.py:550: FutureWarning: Passing (type, 1) or '1type' as a synonym of type is deprecated; in a future version of numpy, it will be understood as (type, (1,)) / '(1,)type'.\n",
      "  np_resource = np.dtype([(\"resource\", np.ubyte, 1)])\n"
     ]
    }
   ],
   "source": [
    "import pandas as pd\n",
    "import numpy as np\n",
    "import spacy"
   ]
  },
  {
   "cell_type": "code",
   "execution_count": 2,
   "metadata": {},
   "outputs": [],
   "source": [
    "from spacy.lang.en.stop_words import STOP_WORDS"
   ]
  },
  {
   "cell_type": "code",
   "execution_count": 3,
   "metadata": {},
   "outputs": [
    {
     "data": {
      "text/html": [
       "<div>\n",
       "<style scoped>\n",
       "    .dataframe tbody tr th:only-of-type {\n",
       "        vertical-align: middle;\n",
       "    }\n",
       "\n",
       "    .dataframe tbody tr th {\n",
       "        vertical-align: top;\n",
       "    }\n",
       "\n",
       "    .dataframe thead th {\n",
       "        text-align: right;\n",
       "    }\n",
       "</style>\n",
       "<table border=\"1\" class=\"dataframe\">\n",
       "  <thead>\n",
       "    <tr style=\"text-align: right;\">\n",
       "      <th></th>\n",
       "      <th>0</th>\n",
       "      <th>1</th>\n",
       "      <th>2</th>\n",
       "      <th>3</th>\n",
       "      <th>4</th>\n",
       "      <th>5</th>\n",
       "      <th>6</th>\n",
       "      <th>7</th>\n",
       "    </tr>\n",
       "  </thead>\n",
       "  <tbody>\n",
       "    <tr>\n",
       "      <th>0</th>\n",
       "      <td>NaN</td>\n",
       "      <td>hotel_url</td>\n",
       "      <td>author</td>\n",
       "      <td>date</td>\n",
       "      <td>rating</td>\n",
       "      <td>title</td>\n",
       "      <td>text</td>\n",
       "      <td>property_dict</td>\n",
       "    </tr>\n",
       "    <tr>\n",
       "      <th>1</th>\n",
       "      <td>0.0</td>\n",
       "      <td>Hotel_Review-g194775-d1121769-Reviews-Hotel_Ba...</td>\n",
       "      <td>violettaf340</td>\n",
       "      <td>2019-01-01T00:00:00</td>\n",
       "      <td>5.0</td>\n",
       "      <td>Xmas holiday</td>\n",
       "      <td>We went here with our kids for Xmas holiday an...</td>\n",
       "      <td>{}</td>\n",
       "    </tr>\n",
       "    <tr>\n",
       "      <th>2</th>\n",
       "      <td>1.0</td>\n",
       "      <td>Hotel_Review-g194775-d1121769-Reviews-Hotel_Ba...</td>\n",
       "      <td>Lagaiuzza</td>\n",
       "      <td>2016-01-01T00:00:00</td>\n",
       "      <td>5.0</td>\n",
       "      <td>Baltic, what else?</td>\n",
       "      <td>We have spent in this hotel our summer holiday...</td>\n",
       "      <td>{}</td>\n",
       "    </tr>\n",
       "    <tr>\n",
       "      <th>3</th>\n",
       "      <td>2.0</td>\n",
       "      <td>Hotel_Review-g194775-d1121769-Reviews-Hotel_Ba...</td>\n",
       "      <td>ashleyn763</td>\n",
       "      <td>2014-10-01T00:00:00</td>\n",
       "      <td>5.0</td>\n",
       "      <td>Excellent in every way!</td>\n",
       "      <td>I visited Hotel Baltic with my husband for som...</td>\n",
       "      <td>{'service': 5.0, 'location': 5.0, 'value': 5.0}</td>\n",
       "    </tr>\n",
       "    <tr>\n",
       "      <th>4</th>\n",
       "      <td>3.0</td>\n",
       "      <td>Hotel_Review-g194775-d1121769-Reviews-Hotel_Ba...</td>\n",
       "      <td>DavideMauro</td>\n",
       "      <td>2014-08-01T00:00:00</td>\n",
       "      <td>5.0</td>\n",
       "      <td>The house of your family's holiday</td>\n",
       "      <td>I've travelled quite a numbers of hotels but t...</td>\n",
       "      <td>{'service': 5.0, 'cleanliness': 5.0, 'sleep qu...</td>\n",
       "    </tr>\n",
       "  </tbody>\n",
       "</table>\n",
       "</div>"
      ],
      "text/plain": [
       "     0                                                  1             2  \\\n",
       "0  NaN                                          hotel_url        author   \n",
       "1  0.0  Hotel_Review-g194775-d1121769-Reviews-Hotel_Ba...  violettaf340   \n",
       "2  1.0  Hotel_Review-g194775-d1121769-Reviews-Hotel_Ba...     Lagaiuzza   \n",
       "3  2.0  Hotel_Review-g194775-d1121769-Reviews-Hotel_Ba...    ashleyn763   \n",
       "4  3.0  Hotel_Review-g194775-d1121769-Reviews-Hotel_Ba...   DavideMauro   \n",
       "\n",
       "                     3       4                                   5  \\\n",
       "0                 date  rating                               title   \n",
       "1  2019-01-01T00:00:00     5.0                        Xmas holiday   \n",
       "2  2016-01-01T00:00:00     5.0                  Baltic, what else?   \n",
       "3  2014-10-01T00:00:00     5.0             Excellent in every way!   \n",
       "4  2014-08-01T00:00:00     5.0  The house of your family's holiday   \n",
       "\n",
       "                                                   6  \\\n",
       "0                                               text   \n",
       "1  We went here with our kids for Xmas holiday an...   \n",
       "2  We have spent in this hotel our summer holiday...   \n",
       "3  I visited Hotel Baltic with my husband for som...   \n",
       "4  I've travelled quite a numbers of hotels but t...   \n",
       "\n",
       "                                                   7  \n",
       "0                                      property_dict  \n",
       "1                                                 {}  \n",
       "2                                                 {}  \n",
       "3    {'service': 5.0, 'location': 5.0, 'value': 5.0}  \n",
       "4  {'service': 5.0, 'cleanliness': 5.0, 'sleep qu...  "
      ]
     },
     "execution_count": 3,
     "metadata": {},
     "output_type": "execute_result"
    }
   ],
   "source": [
    "df=pd.read_csv('D:/Minor Project/0.csv',encoding = 'latin1',header = None)\n",
    "df.head()"
   ]
  },
  {
   "cell_type": "code",
   "execution_count": 4,
   "metadata": {},
   "outputs": [
    {
     "data": {
      "text/html": [
       "<div>\n",
       "<style scoped>\n",
       "    .dataframe tbody tr th:only-of-type {\n",
       "        vertical-align: middle;\n",
       "    }\n",
       "\n",
       "    .dataframe tbody tr th {\n",
       "        vertical-align: top;\n",
       "    }\n",
       "\n",
       "    .dataframe thead th {\n",
       "        text-align: right;\n",
       "    }\n",
       "</style>\n",
       "<table border=\"1\" class=\"dataframe\">\n",
       "  <thead>\n",
       "    <tr style=\"text-align: right;\">\n",
       "      <th></th>\n",
       "      <th>4</th>\n",
       "      <th>6</th>\n",
       "    </tr>\n",
       "  </thead>\n",
       "  <tbody>\n",
       "    <tr>\n",
       "      <th>0</th>\n",
       "      <td>rating</td>\n",
       "      <td>text</td>\n",
       "    </tr>\n",
       "    <tr>\n",
       "      <th>1</th>\n",
       "      <td>5.0</td>\n",
       "      <td>We went here with our kids for Xmas holiday an...</td>\n",
       "    </tr>\n",
       "    <tr>\n",
       "      <th>2</th>\n",
       "      <td>5.0</td>\n",
       "      <td>We have spent in this hotel our summer holiday...</td>\n",
       "    </tr>\n",
       "    <tr>\n",
       "      <th>3</th>\n",
       "      <td>5.0</td>\n",
       "      <td>I visited Hotel Baltic with my husband for som...</td>\n",
       "    </tr>\n",
       "    <tr>\n",
       "      <th>4</th>\n",
       "      <td>5.0</td>\n",
       "      <td>I've travelled quite a numbers of hotels but t...</td>\n",
       "    </tr>\n",
       "  </tbody>\n",
       "</table>\n",
       "</div>"
      ],
      "text/plain": [
       "        4                                                  6\n",
       "0  rating                                               text\n",
       "1     5.0  We went here with our kids for Xmas holiday an...\n",
       "2     5.0  We have spent in this hotel our summer holiday...\n",
       "3     5.0  I visited Hotel Baltic with my husband for som...\n",
       "4     5.0  I've travelled quite a numbers of hotels but t..."
      ]
     },
     "execution_count": 4,
     "metadata": {},
     "output_type": "execute_result"
    }
   ],
   "source": [
    "df=df[[4,6]]\n",
    "df.head()"
   ]
  },
  {
   "cell_type": "code",
   "execution_count": 5,
   "metadata": {},
   "outputs": [
    {
     "data": {
      "text/html": [
       "<div>\n",
       "<style scoped>\n",
       "    .dataframe tbody tr th:only-of-type {\n",
       "        vertical-align: middle;\n",
       "    }\n",
       "\n",
       "    .dataframe tbody tr th {\n",
       "        vertical-align: top;\n",
       "    }\n",
       "\n",
       "    .dataframe thead th {\n",
       "        text-align: right;\n",
       "    }\n",
       "</style>\n",
       "<table border=\"1\" class=\"dataframe\">\n",
       "  <thead>\n",
       "    <tr style=\"text-align: right;\">\n",
       "      <th></th>\n",
       "      <th>rating</th>\n",
       "      <th>review</th>\n",
       "    </tr>\n",
       "  </thead>\n",
       "  <tbody>\n",
       "    <tr>\n",
       "      <th>0</th>\n",
       "      <td>rating</td>\n",
       "      <td>text</td>\n",
       "    </tr>\n",
       "    <tr>\n",
       "      <th>1</th>\n",
       "      <td>5.0</td>\n",
       "      <td>We went here with our kids for Xmas holiday an...</td>\n",
       "    </tr>\n",
       "    <tr>\n",
       "      <th>2</th>\n",
       "      <td>5.0</td>\n",
       "      <td>We have spent in this hotel our summer holiday...</td>\n",
       "    </tr>\n",
       "    <tr>\n",
       "      <th>3</th>\n",
       "      <td>5.0</td>\n",
       "      <td>I visited Hotel Baltic with my husband for som...</td>\n",
       "    </tr>\n",
       "    <tr>\n",
       "      <th>4</th>\n",
       "      <td>5.0</td>\n",
       "      <td>I've travelled quite a numbers of hotels but t...</td>\n",
       "    </tr>\n",
       "  </tbody>\n",
       "</table>\n",
       "</div>"
      ],
      "text/plain": [
       "   rating                                             review\n",
       "0  rating                                               text\n",
       "1     5.0  We went here with our kids for Xmas holiday an...\n",
       "2     5.0  We have spent in this hotel our summer holiday...\n",
       "3     5.0  I visited Hotel Baltic with my husband for som...\n",
       "4     5.0  I've travelled quite a numbers of hotels but t..."
      ]
     },
     "execution_count": 5,
     "metadata": {},
     "output_type": "execute_result"
    }
   ],
   "source": [
    "df.columns=['rating','review']\n",
    "df.head()"
   ]
  },
  {
   "cell_type": "code",
   "execution_count": 6,
   "metadata": {
    "scrolled": true
   },
   "outputs": [
    {
     "data": {
      "text/html": [
       "<div>\n",
       "<style scoped>\n",
       "    .dataframe tbody tr th:only-of-type {\n",
       "        vertical-align: middle;\n",
       "    }\n",
       "\n",
       "    .dataframe tbody tr th {\n",
       "        vertical-align: top;\n",
       "    }\n",
       "\n",
       "    .dataframe thead th {\n",
       "        text-align: right;\n",
       "    }\n",
       "</style>\n",
       "<table border=\"1\" class=\"dataframe\">\n",
       "  <thead>\n",
       "    <tr style=\"text-align: right;\">\n",
       "      <th></th>\n",
       "      <th>rating</th>\n",
       "      <th>review</th>\n",
       "    </tr>\n",
       "  </thead>\n",
       "  <tbody>\n",
       "    <tr>\n",
       "      <th>2</th>\n",
       "      <td>5.0</td>\n",
       "      <td>We have spent in this hotel our summer holiday...</td>\n",
       "    </tr>\n",
       "    <tr>\n",
       "      <th>3</th>\n",
       "      <td>5.0</td>\n",
       "      <td>I visited Hotel Baltic with my husband for som...</td>\n",
       "    </tr>\n",
       "    <tr>\n",
       "      <th>4</th>\n",
       "      <td>5.0</td>\n",
       "      <td>I've travelled quite a numbers of hotels but t...</td>\n",
       "    </tr>\n",
       "    <tr>\n",
       "      <th>5</th>\n",
       "      <td>4.0</td>\n",
       "      <td>We decided for this family holiday destination...</td>\n",
       "    </tr>\n",
       "    <tr>\n",
       "      <th>6</th>\n",
       "      <td>4.0</td>\n",
       "      <td>Great customer service and good restaurant ser...</td>\n",
       "    </tr>\n",
       "  </tbody>\n",
       "</table>\n",
       "</div>"
      ],
      "text/plain": [
       "  rating                                             review\n",
       "2    5.0  We have spent in this hotel our summer holiday...\n",
       "3    5.0  I visited Hotel Baltic with my husband for som...\n",
       "4    5.0  I've travelled quite a numbers of hotels but t...\n",
       "5    4.0  We decided for this family holiday destination...\n",
       "6    4.0  Great customer service and good restaurant ser..."
      ]
     },
     "execution_count": 6,
     "metadata": {},
     "output_type": "execute_result"
    }
   ],
   "source": [
    "df=df[2:]\n",
    "df.head()"
   ]
  },
  {
   "cell_type": "code",
   "execution_count": 7,
   "metadata": {},
   "outputs": [],
   "source": [
    "df=df.iloc[:6000,:]"
   ]
  },
  {
   "cell_type": "code",
   "execution_count": 8,
   "metadata": {},
   "outputs": [
    {
     "data": {
      "text/html": [
       "<div>\n",
       "<style scoped>\n",
       "    .dataframe tbody tr th:only-of-type {\n",
       "        vertical-align: middle;\n",
       "    }\n",
       "\n",
       "    .dataframe tbody tr th {\n",
       "        vertical-align: top;\n",
       "    }\n",
       "\n",
       "    .dataframe thead th {\n",
       "        text-align: right;\n",
       "    }\n",
       "</style>\n",
       "<table border=\"1\" class=\"dataframe\">\n",
       "  <thead>\n",
       "    <tr style=\"text-align: right;\">\n",
       "      <th></th>\n",
       "      <th>rating</th>\n",
       "      <th>review</th>\n",
       "    </tr>\n",
       "  </thead>\n",
       "  <tbody>\n",
       "    <tr>\n",
       "      <th>2</th>\n",
       "      <td>5.0</td>\n",
       "      <td>We have spent in this hotel our summer holiday...</td>\n",
       "    </tr>\n",
       "    <tr>\n",
       "      <th>3</th>\n",
       "      <td>5.0</td>\n",
       "      <td>I visited Hotel Baltic with my husband for som...</td>\n",
       "    </tr>\n",
       "    <tr>\n",
       "      <th>4</th>\n",
       "      <td>5.0</td>\n",
       "      <td>I've travelled quite a numbers of hotels but t...</td>\n",
       "    </tr>\n",
       "    <tr>\n",
       "      <th>5</th>\n",
       "      <td>4.0</td>\n",
       "      <td>We decided for this family holiday destination...</td>\n",
       "    </tr>\n",
       "    <tr>\n",
       "      <th>6</th>\n",
       "      <td>4.0</td>\n",
       "      <td>Great customer service and good restaurant ser...</td>\n",
       "    </tr>\n",
       "    <tr>\n",
       "      <th>...</th>\n",
       "      <td>...</td>\n",
       "      <td>...</td>\n",
       "    </tr>\n",
       "    <tr>\n",
       "      <th>5997</th>\n",
       "      <td>5.0</td>\n",
       "      <td>In my January review I said we would be back f...</td>\n",
       "    </tr>\n",
       "    <tr>\n",
       "      <th>5998</th>\n",
       "      <td>5.0</td>\n",
       "      <td>With the snow falling and pretty views the mor...</td>\n",
       "    </tr>\n",
       "    <tr>\n",
       "      <th>5999</th>\n",
       "      <td>5.0</td>\n",
       "      <td>The Inn On The Twenty is the best kept secret ...</td>\n",
       "    </tr>\n",
       "    <tr>\n",
       "      <th>6000</th>\n",
       "      <td>5.0</td>\n",
       "      <td>From start to finish this may have been the be...</td>\n",
       "    </tr>\n",
       "    <tr>\n",
       "      <th>6001</th>\n",
       "      <td>5.0</td>\n",
       "      <td>Great desk staff, excellent beds. We stayed in...</td>\n",
       "    </tr>\n",
       "  </tbody>\n",
       "</table>\n",
       "<p>6000 rows × 2 columns</p>\n",
       "</div>"
      ],
      "text/plain": [
       "     rating                                             review\n",
       "2       5.0  We have spent in this hotel our summer holiday...\n",
       "3       5.0  I visited Hotel Baltic with my husband for som...\n",
       "4       5.0  I've travelled quite a numbers of hotels but t...\n",
       "5       4.0  We decided for this family holiday destination...\n",
       "6       4.0  Great customer service and good restaurant ser...\n",
       "...     ...                                                ...\n",
       "5997    5.0  In my January review I said we would be back f...\n",
       "5998    5.0  With the snow falling and pretty views the mor...\n",
       "5999    5.0  The Inn On The Twenty is the best kept secret ...\n",
       "6000    5.0  From start to finish this may have been the be...\n",
       "6001    5.0  Great desk staff, excellent beds. We stayed in...\n",
       "\n",
       "[6000 rows x 2 columns]"
      ]
     },
     "execution_count": 8,
     "metadata": {},
     "output_type": "execute_result"
    }
   ],
   "source": [
    "df"
   ]
  },
  {
   "cell_type": "markdown",
   "metadata": {},
   "source": [
    "## PREROCESSING AND CLEANING"
   ]
  },
  {
   "cell_type": "markdown",
   "metadata": {},
   "source": [
    "### LOWERCASE CONVERSION"
   ]
  },
  {
   "cell_type": "code",
   "execution_count": 9,
   "metadata": {},
   "outputs": [
    {
     "data": {
      "text/html": [
       "<div>\n",
       "<style scoped>\n",
       "    .dataframe tbody tr th:only-of-type {\n",
       "        vertical-align: middle;\n",
       "    }\n",
       "\n",
       "    .dataframe tbody tr th {\n",
       "        vertical-align: top;\n",
       "    }\n",
       "\n",
       "    .dataframe thead th {\n",
       "        text-align: right;\n",
       "    }\n",
       "</style>\n",
       "<table border=\"1\" class=\"dataframe\">\n",
       "  <thead>\n",
       "    <tr style=\"text-align: right;\">\n",
       "      <th></th>\n",
       "      <th>rating</th>\n",
       "      <th>review</th>\n",
       "    </tr>\n",
       "  </thead>\n",
       "  <tbody>\n",
       "    <tr>\n",
       "      <th>2</th>\n",
       "      <td>5.0</td>\n",
       "      <td>we have spent in this hotel our summer holiday...</td>\n",
       "    </tr>\n",
       "    <tr>\n",
       "      <th>3</th>\n",
       "      <td>5.0</td>\n",
       "      <td>i visited hotel baltic with my husband for som...</td>\n",
       "    </tr>\n",
       "    <tr>\n",
       "      <th>4</th>\n",
       "      <td>5.0</td>\n",
       "      <td>i've travelled quite a numbers of hotels but t...</td>\n",
       "    </tr>\n",
       "    <tr>\n",
       "      <th>5</th>\n",
       "      <td>4.0</td>\n",
       "      <td>we decided for this family holiday destination...</td>\n",
       "    </tr>\n",
       "    <tr>\n",
       "      <th>6</th>\n",
       "      <td>4.0</td>\n",
       "      <td>great customer service and good restaurant ser...</td>\n",
       "    </tr>\n",
       "  </tbody>\n",
       "</table>\n",
       "</div>"
      ],
      "text/plain": [
       "  rating                                             review\n",
       "2    5.0  we have spent in this hotel our summer holiday...\n",
       "3    5.0  i visited hotel baltic with my husband for som...\n",
       "4    5.0  i've travelled quite a numbers of hotels but t...\n",
       "5    4.0  we decided for this family holiday destination...\n",
       "6    4.0  great customer service and good restaurant ser..."
      ]
     },
     "execution_count": 9,
     "metadata": {},
     "output_type": "execute_result"
    }
   ],
   "source": [
    "df['review']=df['review'].apply(lambda x:x.lower())\n",
    "df.head()"
   ]
  },
  {
   "cell_type": "markdown",
   "metadata": {},
   "source": [
    "### CONTRACTION TO EXPANSION"
   ]
  },
  {
   "cell_type": "code",
   "execution_count": 10,
   "metadata": {},
   "outputs": [],
   "source": [
    "import contractions\n",
    "\n",
    "def cont_to_exp(text):\n",
    "    expanded_words = []   \n",
    "    for word in text.split():\n",
    "        expanded_words.append(contractions.fix(word))  \n",
    "   \n",
    "    expanded_text = ' '.join(expanded_words)\n",
    "    return expanded_text"
   ]
  },
  {
   "cell_type": "code",
   "execution_count": 11,
   "metadata": {},
   "outputs": [
    {
     "data": {
      "text/html": [
       "<div>\n",
       "<style scoped>\n",
       "    .dataframe tbody tr th:only-of-type {\n",
       "        vertical-align: middle;\n",
       "    }\n",
       "\n",
       "    .dataframe tbody tr th {\n",
       "        vertical-align: top;\n",
       "    }\n",
       "\n",
       "    .dataframe thead th {\n",
       "        text-align: right;\n",
       "    }\n",
       "</style>\n",
       "<table border=\"1\" class=\"dataframe\">\n",
       "  <thead>\n",
       "    <tr style=\"text-align: right;\">\n",
       "      <th></th>\n",
       "      <th>rating</th>\n",
       "      <th>review</th>\n",
       "    </tr>\n",
       "  </thead>\n",
       "  <tbody>\n",
       "    <tr>\n",
       "      <th>2</th>\n",
       "      <td>5.0</td>\n",
       "      <td>we have spent in this hotel our summer holiday...</td>\n",
       "    </tr>\n",
       "    <tr>\n",
       "      <th>3</th>\n",
       "      <td>5.0</td>\n",
       "      <td>i visited hotel baltic with my husband for som...</td>\n",
       "    </tr>\n",
       "    <tr>\n",
       "      <th>4</th>\n",
       "      <td>5.0</td>\n",
       "      <td>i have travelled quite a numbers of hotels but...</td>\n",
       "    </tr>\n",
       "    <tr>\n",
       "      <th>5</th>\n",
       "      <td>4.0</td>\n",
       "      <td>we decided for this family holiday destination...</td>\n",
       "    </tr>\n",
       "    <tr>\n",
       "      <th>6</th>\n",
       "      <td>4.0</td>\n",
       "      <td>great customer service and good restaurant ser...</td>\n",
       "    </tr>\n",
       "  </tbody>\n",
       "</table>\n",
       "</div>"
      ],
      "text/plain": [
       "  rating                                             review\n",
       "2    5.0  we have spent in this hotel our summer holiday...\n",
       "3    5.0  i visited hotel baltic with my husband for som...\n",
       "4    5.0  i have travelled quite a numbers of hotels but...\n",
       "5    4.0  we decided for this family holiday destination...\n",
       "6    4.0  great customer service and good restaurant ser..."
      ]
     },
     "execution_count": 11,
     "metadata": {},
     "output_type": "execute_result"
    }
   ],
   "source": [
    "df['review']=df['review'].apply(lambda x: cont_to_exp(x))\n",
    "df.head()"
   ]
  },
  {
   "cell_type": "markdown",
   "metadata": {},
   "source": [
    "### SPECIAL CHARACTER REMOVAL"
   ]
  },
  {
   "cell_type": "code",
   "execution_count": 12,
   "metadata": {},
   "outputs": [
    {
     "data": {
      "text/html": [
       "<div>\n",
       "<style scoped>\n",
       "    .dataframe tbody tr th:only-of-type {\n",
       "        vertical-align: middle;\n",
       "    }\n",
       "\n",
       "    .dataframe tbody tr th {\n",
       "        vertical-align: top;\n",
       "    }\n",
       "\n",
       "    .dataframe thead th {\n",
       "        text-align: right;\n",
       "    }\n",
       "</style>\n",
       "<table border=\"1\" class=\"dataframe\">\n",
       "  <thead>\n",
       "    <tr style=\"text-align: right;\">\n",
       "      <th></th>\n",
       "      <th>rating</th>\n",
       "      <th>review</th>\n",
       "    </tr>\n",
       "  </thead>\n",
       "  <tbody>\n",
       "    <tr>\n",
       "      <th>2</th>\n",
       "      <td>5.0</td>\n",
       "      <td>we have spent in this hotel our summer holiday...</td>\n",
       "    </tr>\n",
       "    <tr>\n",
       "      <th>3</th>\n",
       "      <td>5.0</td>\n",
       "      <td>i visited hotel baltic with my husband for som...</td>\n",
       "    </tr>\n",
       "    <tr>\n",
       "      <th>4</th>\n",
       "      <td>5.0</td>\n",
       "      <td>i have travelled quite a numbers of hotels but...</td>\n",
       "    </tr>\n",
       "    <tr>\n",
       "      <th>5</th>\n",
       "      <td>4.0</td>\n",
       "      <td>we decided for this family holiday destination...</td>\n",
       "    </tr>\n",
       "    <tr>\n",
       "      <th>6</th>\n",
       "      <td>4.0</td>\n",
       "      <td>great customer service and good restaurant ser...</td>\n",
       "    </tr>\n",
       "  </tbody>\n",
       "</table>\n",
       "</div>"
      ],
      "text/plain": [
       "  rating                                             review\n",
       "2    5.0  we have spent in this hotel our summer holiday...\n",
       "3    5.0  i visited hotel baltic with my husband for som...\n",
       "4    5.0  i have travelled quite a numbers of hotels but...\n",
       "5    4.0  we decided for this family holiday destination...\n",
       "6    4.0  great customer service and good restaurant ser..."
      ]
     },
     "execution_count": 12,
     "metadata": {},
     "output_type": "execute_result"
    }
   ],
   "source": [
    "import re\n",
    "df['review']=df['review'].apply(lambda x:re.sub('[^A-Z a-z 0-9]+','',x))\n",
    "df.head()"
   ]
  },
  {
   "cell_type": "code",
   "execution_count": 13,
   "metadata": {},
   "outputs": [
    {
     "data": {
      "text/html": [
       "<div>\n",
       "<style scoped>\n",
       "    .dataframe tbody tr th:only-of-type {\n",
       "        vertical-align: middle;\n",
       "    }\n",
       "\n",
       "    .dataframe tbody tr th {\n",
       "        vertical-align: top;\n",
       "    }\n",
       "\n",
       "    .dataframe thead th {\n",
       "        text-align: right;\n",
       "    }\n",
       "</style>\n",
       "<table border=\"1\" class=\"dataframe\">\n",
       "  <thead>\n",
       "    <tr style=\"text-align: right;\">\n",
       "      <th></th>\n",
       "      <th>rating</th>\n",
       "      <th>review</th>\n",
       "    </tr>\n",
       "  </thead>\n",
       "  <tbody>\n",
       "    <tr>\n",
       "      <th>2</th>\n",
       "      <td>5.0</td>\n",
       "      <td>we have spent in this hotel our summer holiday...</td>\n",
       "    </tr>\n",
       "    <tr>\n",
       "      <th>3</th>\n",
       "      <td>5.0</td>\n",
       "      <td>i visited hotel baltic with my husband for som...</td>\n",
       "    </tr>\n",
       "    <tr>\n",
       "      <th>4</th>\n",
       "      <td>5.0</td>\n",
       "      <td>i have travelled quite a numbers of hotels but...</td>\n",
       "    </tr>\n",
       "    <tr>\n",
       "      <th>5</th>\n",
       "      <td>4.0</td>\n",
       "      <td>we decided for this family holiday destination...</td>\n",
       "    </tr>\n",
       "    <tr>\n",
       "      <th>6</th>\n",
       "      <td>4.0</td>\n",
       "      <td>great customer service and good restaurant ser...</td>\n",
       "    </tr>\n",
       "  </tbody>\n",
       "</table>\n",
       "</div>"
      ],
      "text/plain": [
       "  rating                                             review\n",
       "2    5.0  we have spent in this hotel our summer holiday...\n",
       "3    5.0  i visited hotel baltic with my husband for som...\n",
       "4    5.0  i have travelled quite a numbers of hotels but...\n",
       "5    4.0  we decided for this family holiday destination...\n",
       "6    4.0  great customer service and good restaurant ser..."
      ]
     },
     "execution_count": 13,
     "metadata": {},
     "output_type": "execute_result"
    }
   ],
   "source": [
    "# remove emails\n",
    "df['review'] = df['review'].apply(lambda x: re.sub(r'([a-zA-Z0-9+._-]+@[a-zA-Z0-9._-]+\\.[a-zA-Z0-9_-]+)', '', x))\n",
    "df.head()"
   ]
  },
  {
   "cell_type": "code",
   "execution_count": null,
   "metadata": {},
   "outputs": [],
   "source": []
  },
  {
   "cell_type": "markdown",
   "metadata": {},
   "source": [
    "### REMOVE MULTIPLE SPACES"
   ]
  },
  {
   "cell_type": "code",
   "execution_count": 14,
   "metadata": {},
   "outputs": [
    {
     "data": {
      "text/html": [
       "<div>\n",
       "<style scoped>\n",
       "    .dataframe tbody tr th:only-of-type {\n",
       "        vertical-align: middle;\n",
       "    }\n",
       "\n",
       "    .dataframe tbody tr th {\n",
       "        vertical-align: top;\n",
       "    }\n",
       "\n",
       "    .dataframe thead th {\n",
       "        text-align: right;\n",
       "    }\n",
       "</style>\n",
       "<table border=\"1\" class=\"dataframe\">\n",
       "  <thead>\n",
       "    <tr style=\"text-align: right;\">\n",
       "      <th></th>\n",
       "      <th>rating</th>\n",
       "      <th>review</th>\n",
       "    </tr>\n",
       "  </thead>\n",
       "  <tbody>\n",
       "    <tr>\n",
       "      <th>2</th>\n",
       "      <td>5.0</td>\n",
       "      <td>we have spent in this hotel our summer holiday...</td>\n",
       "    </tr>\n",
       "    <tr>\n",
       "      <th>3</th>\n",
       "      <td>5.0</td>\n",
       "      <td>i visited hotel baltic with my husband for som...</td>\n",
       "    </tr>\n",
       "    <tr>\n",
       "      <th>4</th>\n",
       "      <td>5.0</td>\n",
       "      <td>i have travelled quite a numbers of hotels but...</td>\n",
       "    </tr>\n",
       "    <tr>\n",
       "      <th>5</th>\n",
       "      <td>4.0</td>\n",
       "      <td>we decided for this family holiday destination...</td>\n",
       "    </tr>\n",
       "    <tr>\n",
       "      <th>6</th>\n",
       "      <td>4.0</td>\n",
       "      <td>great customer service and good restaurant ser...</td>\n",
       "    </tr>\n",
       "  </tbody>\n",
       "</table>\n",
       "</div>"
      ],
      "text/plain": [
       "  rating                                             review\n",
       "2    5.0  we have spent in this hotel our summer holiday...\n",
       "3    5.0  i visited hotel baltic with my husband for som...\n",
       "4    5.0  i have travelled quite a numbers of hotels but...\n",
       "5    4.0  we decided for this family holiday destination...\n",
       "6    4.0  great customer service and good restaurant ser..."
      ]
     },
     "execution_count": 14,
     "metadata": {},
     "output_type": "execute_result"
    }
   ],
   "source": [
    "df['review']=df['review'].apply(lambda x:\" \".join(x.split()))\n",
    "df.head()"
   ]
  },
  {
   "cell_type": "markdown",
   "metadata": {},
   "source": [
    "### REMOVE STOPWORDS"
   ]
  },
  {
   "cell_type": "code",
   "execution_count": 15,
   "metadata": {},
   "outputs": [],
   "source": [
    "import spacy\n",
    "from spacy.lang.en.stop_words import STOP_WORDS"
   ]
  },
  {
   "cell_type": "code",
   "execution_count": 16,
   "metadata": {},
   "outputs": [
    {
     "data": {
      "text/html": [
       "<div>\n",
       "<style scoped>\n",
       "    .dataframe tbody tr th:only-of-type {\n",
       "        vertical-align: middle;\n",
       "    }\n",
       "\n",
       "    .dataframe tbody tr th {\n",
       "        vertical-align: top;\n",
       "    }\n",
       "\n",
       "    .dataframe thead th {\n",
       "        text-align: right;\n",
       "    }\n",
       "</style>\n",
       "<table border=\"1\" class=\"dataframe\">\n",
       "  <thead>\n",
       "    <tr style=\"text-align: right;\">\n",
       "      <th></th>\n",
       "      <th>rating</th>\n",
       "      <th>review</th>\n",
       "    </tr>\n",
       "  </thead>\n",
       "  <tbody>\n",
       "    <tr>\n",
       "      <th>2</th>\n",
       "      <td>5.0</td>\n",
       "      <td>spent hotel summer holidays summer 2014 2015 h...</td>\n",
       "    </tr>\n",
       "    <tr>\n",
       "      <th>3</th>\n",
       "      <td>5.0</td>\n",
       "      <td>visited hotel baltic husband bike riding area ...</td>\n",
       "    </tr>\n",
       "    <tr>\n",
       "      <th>4</th>\n",
       "      <td>5.0</td>\n",
       "      <td>travelled numbers hotels best place achieve ex...</td>\n",
       "    </tr>\n",
       "    <tr>\n",
       "      <th>5</th>\n",
       "      <td>4.0</td>\n",
       "      <td>decided family holiday destination saw ranking...</td>\n",
       "    </tr>\n",
       "    <tr>\n",
       "      <th>6</th>\n",
       "      <td>4.0</td>\n",
       "      <td>great customer service good restaurant service...</td>\n",
       "    </tr>\n",
       "  </tbody>\n",
       "</table>\n",
       "</div>"
      ],
      "text/plain": [
       "  rating                                             review\n",
       "2    5.0  spent hotel summer holidays summer 2014 2015 h...\n",
       "3    5.0  visited hotel baltic husband bike riding area ...\n",
       "4    5.0  travelled numbers hotels best place achieve ex...\n",
       "5    4.0  decided family holiday destination saw ranking...\n",
       "6    4.0  great customer service good restaurant service..."
      ]
     },
     "execution_count": 16,
     "metadata": {},
     "output_type": "execute_result"
    }
   ],
   "source": [
    "df['review']=df['review'].apply(lambda x:\" \".join([t for t in x.split() if t  not in STOP_WORDS]))\n",
    "df.head()"
   ]
  },
  {
   "cell_type": "markdown",
   "metadata": {},
   "source": [
    "### CONVERT INTO BASE OR ROOT FORM OF WORD (LEMATIZATION)"
   ]
  },
  {
   "cell_type": "code",
   "execution_count": 17,
   "metadata": {},
   "outputs": [],
   "source": [
    "nlp=spacy.load('en_core_web_sm')"
   ]
  },
  {
   "cell_type": "code",
   "execution_count": 18,
   "metadata": {},
   "outputs": [],
   "source": [
    "def make_to_base(x):\n",
    "    x_list = [] \n",
    "    doc = nlp(x)\n",
    "\n",
    "    for token in doc:\n",
    "        lemma = str(token.lemma_)\n",
    "        if lemma == '-PRON-' or lemma == 'be':\n",
    "            lemma= token.text\n",
    "        x_list.append(lemma)\n",
    "    return \" \".join(x_list)"
   ]
  },
  {
   "cell_type": "code",
   "execution_count": 19,
   "metadata": {},
   "outputs": [],
   "source": [
    "df['review']=df['review'].apply(lambda x: make_to_base(x))"
   ]
  },
  {
   "cell_type": "code",
   "execution_count": 20,
   "metadata": {},
   "outputs": [
    {
     "data": {
      "text/html": [
       "<div>\n",
       "<style scoped>\n",
       "    .dataframe tbody tr th:only-of-type {\n",
       "        vertical-align: middle;\n",
       "    }\n",
       "\n",
       "    .dataframe tbody tr th {\n",
       "        vertical-align: top;\n",
       "    }\n",
       "\n",
       "    .dataframe thead th {\n",
       "        text-align: right;\n",
       "    }\n",
       "</style>\n",
       "<table border=\"1\" class=\"dataframe\">\n",
       "  <thead>\n",
       "    <tr style=\"text-align: right;\">\n",
       "      <th></th>\n",
       "      <th>rating</th>\n",
       "      <th>review</th>\n",
       "    </tr>\n",
       "  </thead>\n",
       "  <tbody>\n",
       "    <tr>\n",
       "      <th>2</th>\n",
       "      <td>5.0</td>\n",
       "      <td>spend hotel summer holiday summer 2014 2015 hu...</td>\n",
       "    </tr>\n",
       "    <tr>\n",
       "      <th>3</th>\n",
       "      <td>5.0</td>\n",
       "      <td>visit hotel baltic husband bike riding area th...</td>\n",
       "    </tr>\n",
       "    <tr>\n",
       "      <th>4</th>\n",
       "      <td>5.0</td>\n",
       "      <td>travel number hotel good place achieve excelle...</td>\n",
       "    </tr>\n",
       "    <tr>\n",
       "      <th>5</th>\n",
       "      <td>4.0</td>\n",
       "      <td>decide family holiday destination see rank fam...</td>\n",
       "    </tr>\n",
       "    <tr>\n",
       "      <th>6</th>\n",
       "      <td>4.0</td>\n",
       "      <td>great customer service good restaurant service...</td>\n",
       "    </tr>\n",
       "  </tbody>\n",
       "</table>\n",
       "</div>"
      ],
      "text/plain": [
       "  rating                                             review\n",
       "2    5.0  spend hotel summer holiday summer 2014 2015 hu...\n",
       "3    5.0  visit hotel baltic husband bike riding area th...\n",
       "4    5.0  travel number hotel good place achieve excelle...\n",
       "5    4.0  decide family holiday destination see rank fam...\n",
       "6    4.0  great customer service good restaurant service..."
      ]
     },
     "execution_count": 20,
     "metadata": {},
     "output_type": "execute_result"
    }
   ],
   "source": [
    "df.head()"
   ]
  },
  {
   "cell_type": "code",
   "execution_count": 21,
   "metadata": {},
   "outputs": [
    {
     "data": {
      "text/plain": [
       "room          7296\n",
       "hotel         6513\n",
       "stay          5204\n",
       "good          4102\n",
       "staff         3694\n",
       "great         3028\n",
       "breakfast     3007\n",
       "place         2559\n",
       "nice          2527\n",
       "clean         2493\n",
       "night         2322\n",
       "food          1998\n",
       "time          1991\n",
       "restaurant    1850\n",
       "friendly      1842\n",
       "day           1804\n",
       "area          1691\n",
       "location      1619\n",
       "service       1557\n",
       "like          1507\n",
       "dtype: int64"
      ]
     },
     "execution_count": 21,
     "metadata": {},
     "output_type": "execute_result"
    }
   ],
   "source": [
    "# Removal of Common word \n",
    "text=\" \".join(df['review'])\n",
    "text=text.split()\n",
    "freq_comm=pd.Series(text).value_counts()\n",
    "f20=freq_comm[:20]\n",
    "f20"
   ]
  },
  {
   "cell_type": "code",
   "execution_count": 22,
   "metadata": {},
   "outputs": [
    {
     "data": {
      "text/html": [
       "<div>\n",
       "<style scoped>\n",
       "    .dataframe tbody tr th:only-of-type {\n",
       "        vertical-align: middle;\n",
       "    }\n",
       "\n",
       "    .dataframe tbody tr th {\n",
       "        vertical-align: top;\n",
       "    }\n",
       "\n",
       "    .dataframe thead th {\n",
       "        text-align: right;\n",
       "    }\n",
       "</style>\n",
       "<table border=\"1\" class=\"dataframe\">\n",
       "  <thead>\n",
       "    <tr style=\"text-align: right;\">\n",
       "      <th></th>\n",
       "      <th>rating</th>\n",
       "      <th>review</th>\n",
       "    </tr>\n",
       "  </thead>\n",
       "  <tbody>\n",
       "    <tr>\n",
       "      <th>2</th>\n",
       "      <td>5.0</td>\n",
       "      <td>spend summer holiday summer 2014 2015 husband ...</td>\n",
       "    </tr>\n",
       "    <tr>\n",
       "      <th>3</th>\n",
       "      <td>5.0</td>\n",
       "      <td>visit baltic husband bike riding think wrong c...</td>\n",
       "    </tr>\n",
       "    <tr>\n",
       "      <th>4</th>\n",
       "      <td>5.0</td>\n",
       "      <td>travel number achieve excellent ratio qualitym...</td>\n",
       "    </tr>\n",
       "    <tr>\n",
       "      <th>5</th>\n",
       "      <td>4.0</td>\n",
       "      <td>decide family holiday destination see rank fam...</td>\n",
       "    </tr>\n",
       "    <tr>\n",
       "      <th>6</th>\n",
       "      <td>4.0</td>\n",
       "      <td>customer experience wonderful family giulianuo...</td>\n",
       "    </tr>\n",
       "  </tbody>\n",
       "</table>\n",
       "</div>"
      ],
      "text/plain": [
       "  rating                                             review\n",
       "2    5.0  spend summer holiday summer 2014 2015 husband ...\n",
       "3    5.0  visit baltic husband bike riding think wrong c...\n",
       "4    5.0  travel number achieve excellent ratio qualitym...\n",
       "5    4.0  decide family holiday destination see rank fam...\n",
       "6    4.0  customer experience wonderful family giulianuo..."
      ]
     },
     "execution_count": 22,
     "metadata": {},
     "output_type": "execute_result"
    }
   ],
   "source": [
    "# The words not in f20 will only be there in review\n",
    "df['review']=df['review'].apply(lambda x:\" \".join([t for t in x.split() if t  not in f20]))\n",
    "df.head()"
   ]
  },
  {
   "cell_type": "code",
   "execution_count": 23,
   "metadata": {},
   "outputs": [
    {
     "data": {
      "text/plain": [
       "combativeness    1\n",
       "cindy            1\n",
       "monthursday      1\n",
       "trelli           1\n",
       "intent           1\n",
       "                ..\n",
       "shredding        1\n",
       "odorfree         1\n",
       "towl             1\n",
       "amelia           1\n",
       "exprience        1\n",
       "Length: 10121, dtype: int64"
      ]
     },
     "execution_count": 23,
     "metadata": {},
     "output_type": "execute_result"
    }
   ],
   "source": [
    "# removal of Rare words\n",
    "rare = freq_comm[freq_comm.values == 1]\n",
    "rare"
   ]
  },
  {
   "cell_type": "code",
   "execution_count": 24,
   "metadata": {},
   "outputs": [
    {
     "data": {
      "text/html": [
       "<div>\n",
       "<style scoped>\n",
       "    .dataframe tbody tr th:only-of-type {\n",
       "        vertical-align: middle;\n",
       "    }\n",
       "\n",
       "    .dataframe tbody tr th {\n",
       "        vertical-align: top;\n",
       "    }\n",
       "\n",
       "    .dataframe thead th {\n",
       "        text-align: right;\n",
       "    }\n",
       "</style>\n",
       "<table border=\"1\" class=\"dataframe\">\n",
       "  <thead>\n",
       "    <tr style=\"text-align: right;\">\n",
       "      <th></th>\n",
       "      <th>rating</th>\n",
       "      <th>review</th>\n",
       "    </tr>\n",
       "  </thead>\n",
       "  <tbody>\n",
       "    <tr>\n",
       "      <th>2</th>\n",
       "      <td>5.0</td>\n",
       "      <td>spend summer holiday summer 2014 2015 husband ...</td>\n",
       "    </tr>\n",
       "    <tr>\n",
       "      <th>3</th>\n",
       "      <td>5.0</td>\n",
       "      <td>visit baltic husband bike riding think wrong c...</td>\n",
       "    </tr>\n",
       "    <tr>\n",
       "      <th>4</th>\n",
       "      <td>5.0</td>\n",
       "      <td>travel number achieve excellent ratio excellen...</td>\n",
       "    </tr>\n",
       "    <tr>\n",
       "      <th>5</th>\n",
       "      <td>4.0</td>\n",
       "      <td>decide family holiday destination see rank fam...</td>\n",
       "    </tr>\n",
       "    <tr>\n",
       "      <th>6</th>\n",
       "      <td>4.0</td>\n",
       "      <td>customer experience wonderful family pretty si...</td>\n",
       "    </tr>\n",
       "  </tbody>\n",
       "</table>\n",
       "</div>"
      ],
      "text/plain": [
       "  rating                                             review\n",
       "2    5.0  spend summer holiday summer 2014 2015 husband ...\n",
       "3    5.0  visit baltic husband bike riding think wrong c...\n",
       "4    5.0  travel number achieve excellent ratio excellen...\n",
       "5    4.0  decide family holiday destination see rank fam...\n",
       "6    4.0  customer experience wonderful family pretty si..."
      ]
     },
     "execution_count": 24,
     "metadata": {},
     "output_type": "execute_result"
    }
   ],
   "source": [
    "df['review'] = df['review'].apply(lambda x: ' '.join([t for t in x.split() if t not in rare]))\n",
    "df.head()"
   ]
  },
  {
   "cell_type": "code",
   "execution_count": null,
   "metadata": {},
   "outputs": [],
   "source": []
  },
  {
   "cell_type": "markdown",
   "metadata": {},
   "source": [
    "# CLASSIFICATION MODELS "
   ]
  },
  {
   "cell_type": "code",
   "execution_count": 25,
   "metadata": {},
   "outputs": [],
   "source": [
    "from sklearn.linear_model import SGDClassifier\n",
    "from sklearn.linear_model import LogisticRegression\n",
    "from sklearn.linear_model import LogisticRegressionCV\n",
    "from sklearn.svm import LinearSVC\n",
    "from sklearn.ensemble import RandomForestClassifier\n",
    "from sklearn.neighbors import KNeighborsClassifier\n",
    "from sklearn.tree import DecisionTreeClassifier\n",
    "from sklearn.naive_bayes import GaussianNB\n",
    "\n",
    "from sklearn.model_selection import train_test_split\n",
    "from sklearn.metrics import confusion_matrix, accuracy_score\n",
    "from sklearn.preprocessing import MinMaxScaler"
   ]
  },
  {
   "cell_type": "code",
   "execution_count": 26,
   "metadata": {},
   "outputs": [],
   "source": [
    "sgd = SGDClassifier(n_jobs=-1, random_state=42, max_iter=1000)\n",
    "lgr = LogisticRegression(random_state=42, max_iter=1000)\n",
    "lgrcv = LogisticRegressionCV(cv = 2, random_state=42, max_iter=1000)\n",
    "svm = LinearSVC(random_state=42, max_iter=1000)\n",
    "rfc = RandomForestClassifier(random_state=42, n_jobs=-1, n_estimators=1000)\n",
    "knn = KNeighborsClassifier(n_neighbors = 5)\n",
    "dtc= DecisionTreeClassifier(max_depth =3, random_state = 42)"
   ]
  },
  {
   "cell_type": "code",
   "execution_count": 27,
   "metadata": {},
   "outputs": [],
   "source": [
    "Des={'SGD': \"SGD Classifier\", 'LGR': \"Logistic Regression\", 'LGR-CV': \"Logistic Regression CV\", 'SVM': \"Linear SVC\", 'RFC': \"Random Forest Classifier\",'KNN':\"K Neighbors Classifier\",'DTC':\"Decision Tree Classifier\"}"
   ]
  },
  {
   "cell_type": "code",
   "execution_count": 28,
   "metadata": {},
   "outputs": [],
   "source": [
    "clf = {'SGD': sgd, 'LGR': lgr, 'LGR-CV': lgrcv, 'SVM': svm, 'RFC': rfc,'KNN':knn,'DTC':dtc}"
   ]
  },
  {
   "cell_type": "code",
   "execution_count": 29,
   "metadata": {},
   "outputs": [],
   "source": [
    "def classify(X, y):\n",
    "    scaler = MinMaxScaler(feature_range=(0, 1))\n",
    "    X = scaler.fit_transform(X)\n",
    "    \n",
    "    X_train, X_test, y_train, y_test = train_test_split(X, y, test_size = 0.3, random_state = 42, stratify = y)\n",
    "    \n",
    "    for key in clf.keys():\n",
    "        clf[key].fit(X_train, y_train)\n",
    "        y_pred = clf[key].predict(X_test)\n",
    "        ac = accuracy_score(y_test, y_pred)\n",
    "        print(key, \" ---> \", ac)"
   ]
  },
  {
   "cell_type": "code",
   "execution_count": 38,
   "metadata": {},
   "outputs": [],
   "source": [
    "df_slice=df\n",
    "# df.head()"
   ]
  },
  {
   "cell_type": "code",
   "execution_count": 39,
   "metadata": {},
   "outputs": [
    {
     "data": {
      "text/plain": [
       "2       5.0\n",
       "3       5.0\n",
       "4       5.0\n",
       "5       4.0\n",
       "6       4.0\n",
       "       ... \n",
       "5997    5.0\n",
       "5998    5.0\n",
       "5999    5.0\n",
       "6000    5.0\n",
       "6001    5.0\n",
       "Name: rating, Length: 6000, dtype: object"
      ]
     },
     "execution_count": 39,
     "metadata": {},
     "output_type": "execute_result"
    }
   ],
   "source": [
    "y=df_slice['rating']\n",
    "y"
   ]
  },
  {
   "cell_type": "code",
   "execution_count": null,
   "metadata": {},
   "outputs": [],
   "source": []
  },
  {
   "cell_type": "markdown",
   "metadata": {},
   "source": [
    "## Bag of Word"
   ]
  },
  {
   "cell_type": "code",
   "execution_count": 40,
   "metadata": {},
   "outputs": [],
   "source": [
    "from sklearn.feature_extraction.text import CountVectorizer\n",
    "cv=CountVectorizer(ngram_range=(1,1))"
   ]
  },
  {
   "cell_type": "code",
   "execution_count": 41,
   "metadata": {},
   "outputs": [
    {
     "data": {
      "text/html": [
       "<div>\n",
       "<style scoped>\n",
       "    .dataframe tbody tr th:only-of-type {\n",
       "        vertical-align: middle;\n",
       "    }\n",
       "\n",
       "    .dataframe tbody tr th {\n",
       "        vertical-align: top;\n",
       "    }\n",
       "\n",
       "    .dataframe thead th {\n",
       "        text-align: right;\n",
       "    }\n",
       "</style>\n",
       "<table border=\"1\" class=\"dataframe\">\n",
       "  <thead>\n",
       "    <tr style=\"text-align: right;\">\n",
       "      <th></th>\n",
       "      <th>rating</th>\n",
       "      <th>review</th>\n",
       "    </tr>\n",
       "  </thead>\n",
       "  <tbody>\n",
       "    <tr>\n",
       "      <th>2</th>\n",
       "      <td>5.0</td>\n",
       "      <td>spend summer holiday summer 2014 2015 husband ...</td>\n",
       "    </tr>\n",
       "    <tr>\n",
       "      <th>3</th>\n",
       "      <td>5.0</td>\n",
       "      <td>visit baltic husband bike riding think wrong c...</td>\n",
       "    </tr>\n",
       "    <tr>\n",
       "      <th>4</th>\n",
       "      <td>5.0</td>\n",
       "      <td>travel number achieve excellent ratio excellen...</td>\n",
       "    </tr>\n",
       "    <tr>\n",
       "      <th>5</th>\n",
       "      <td>4.0</td>\n",
       "      <td>decide family holiday destination see rank fam...</td>\n",
       "    </tr>\n",
       "    <tr>\n",
       "      <th>6</th>\n",
       "      <td>4.0</td>\n",
       "      <td>customer experience wonderful family pretty si...</td>\n",
       "    </tr>\n",
       "  </tbody>\n",
       "</table>\n",
       "</div>"
      ],
      "text/plain": [
       "  rating                                             review\n",
       "2    5.0  spend summer holiday summer 2014 2015 husband ...\n",
       "3    5.0  visit baltic husband bike riding think wrong c...\n",
       "4    5.0  travel number achieve excellent ratio excellen...\n",
       "5    4.0  decide family holiday destination see rank fam...\n",
       "6    4.0  customer experience wonderful family pretty si..."
      ]
     },
     "execution_count": 41,
     "metadata": {},
     "output_type": "execute_result"
    }
   ],
   "source": [
    "df.head()"
   ]
  },
  {
   "cell_type": "code",
   "execution_count": 42,
   "metadata": {},
   "outputs": [],
   "source": [
    "from sklearn.feature_extraction.text import CountVectorizer"
   ]
  },
  {
   "cell_type": "code",
   "execution_count": 43,
   "metadata": {},
   "outputs": [
    {
     "data": {
      "text/plain": [
       "array([[0, 0, 0, ..., 0, 0, 0],\n",
       "       [0, 0, 0, ..., 0, 0, 0],\n",
       "       [0, 0, 0, ..., 0, 0, 0],\n",
       "       ...,\n",
       "       [0, 0, 0, ..., 0, 0, 0],\n",
       "       [0, 0, 0, ..., 0, 0, 0],\n",
       "       [0, 0, 0, ..., 0, 0, 0]], dtype=int64)"
      ]
     },
     "execution_count": 43,
     "metadata": {},
     "output_type": "execute_result"
    }
   ],
   "source": [
    "cv=CountVectorizer(ngram_range=(1,1))\n",
    "text_counts=cv.fit_transform(df_slice['review'])\n",
    "text_counts.toarray()\n"
   ]
  },
  {
   "cell_type": "code",
   "execution_count": 44,
   "metadata": {},
   "outputs": [],
   "source": [
    "dfr_bow = pd.DataFrame(text_counts.toarray(), columns=cv.get_feature_names())"
   ]
  },
  {
   "cell_type": "code",
   "execution_count": 45,
   "metadata": {},
   "outputs": [
    {
     "data": {
      "text/plain": [
       "array(['5.0', '4.0', '3.0', '1.0', '2.0'], dtype=object)"
      ]
     },
     "execution_count": 45,
     "metadata": {},
     "output_type": "execute_result"
    }
   ],
   "source": [
    "df['rating'].unique()"
   ]
  },
  {
   "cell_type": "code",
   "execution_count": 46,
   "metadata": {},
   "outputs": [
    {
     "data": {
      "text/plain": [
       "(6000,)"
      ]
     },
     "execution_count": 46,
     "metadata": {},
     "output_type": "execute_result"
    }
   ],
   "source": [
    "\n",
    "y.shape\n"
   ]
  },
  {
   "cell_type": "code",
   "execution_count": 47,
   "metadata": {
    "scrolled": false
   },
   "outputs": [
    {
     "name": "stdout",
     "output_type": "stream",
     "text": [
      "SGD  --->  0.59\n",
      "LGR  --->  0.6161111111111112\n",
      "LGR-CV  --->  0.6116666666666667\n",
      "SVM  --->  0.5855555555555556\n",
      "RFC  --->  0.5972222222222222\n",
      "KNN  --->  0.46944444444444444\n",
      "DTC  --->  0.5377777777777778\n"
     ]
    }
   ],
   "source": [
    "classify(dfr_bow, y)"
   ]
  },
  {
   "cell_type": "code",
   "execution_count": 48,
   "metadata": {},
   "outputs": [],
   "source": [
    "# from sklearn.model_selection import cross_val_score\n",
    "# for keys in clf.keys():\n",
    "#    print(keys+\"--->\"+str(cross_val_score(sgd,dfr_bow,y,cv=3)))\n"
   ]
  },
  {
   "cell_type": "code",
   "execution_count": 49,
   "metadata": {},
   "outputs": [],
   "source": [
    "My_pre=[]"
   ]
  },
  {
   "cell_type": "code",
   "execution_count": null,
   "metadata": {},
   "outputs": [],
   "source": []
  },
  {
   "cell_type": "code",
   "execution_count": null,
   "metadata": {},
   "outputs": [],
   "source": []
  },
  {
   "cell_type": "code",
   "execution_count": null,
   "metadata": {},
   "outputs": [],
   "source": []
  },
  {
   "cell_type": "code",
   "execution_count": 50,
   "metadata": {},
   "outputs": [],
   "source": [
    "# importing libraries\n",
    "from sklearn.ensemble import VotingClassifier\n",
    "from sklearn.metrics import accuracy_score\n",
    "from sklearn.metrics import classification_report\n",
    "from sklearn.metrics import precision_score, recall_score, f1_score\n",
    "def MajorVoting1(X,Y):\n",
    "    X_train, X_test, y_train, y_test = train_test_split(X,Y,test_size = 0.20,random_state = 42)\n",
    "\n",
    "    estimator = []\n",
    "    \n",
    "    for key in clf.keys():\n",
    "        estimator.append((key,clf[key]))\n",
    "    #estimator.append(('LR',lgr))\n",
    "    #estimator.append(('DTC', DecisionTreeClassifier()))\n",
    "    vot_hard = VotingClassifier(estimators = estimator, voting ='hard')\n",
    "    vot_hard.fit(X_train, y_train)\n",
    "    y_pred = vot_hard.predict(X_test)\n",
    "    print (classification_report(y_test, y_pred))\n",
    "    result=[]\n",
    "#     result.append(f1_score(y_test,y_train))\n",
    "#     result.append(recall_score(y_test,y_train))\n",
    "#     result.append(precision_score(y_test,y_train))\n",
    "#     result.append(accuracy_score(y_test,y_pred))\n",
    "    return result"
   ]
  },
  {
   "cell_type": "code",
   "execution_count": 51,
   "metadata": {},
   "outputs": [
    {
     "name": "stdout",
     "output_type": "stream",
     "text": [
      "              precision    recall  f1-score   support\n",
      "\n",
      "         1.0       0.62      0.36      0.46        36\n",
      "         2.0       0.44      0.12      0.19        65\n",
      "         3.0       0.36      0.26      0.30       132\n",
      "         4.0       0.46      0.42      0.44       336\n",
      "         5.0       0.71      0.86      0.78       631\n",
      "\n",
      "    accuracy                           0.61      1200\n",
      "   macro avg       0.52      0.40      0.43      1200\n",
      "weighted avg       0.58      0.61      0.59      1200\n",
      "\n"
     ]
    }
   ],
   "source": [
    "BOW_Score=MajorVoting1(dfr_bow,y)"
   ]
  },
  {
   "cell_type": "code",
   "execution_count": 52,
   "metadata": {},
   "outputs": [
    {
     "data": {
      "text/plain": [
       "[]"
      ]
     },
     "execution_count": 52,
     "metadata": {},
     "output_type": "execute_result"
    }
   ],
   "source": [
    "BOW_Score"
   ]
  },
  {
   "cell_type": "code",
   "execution_count": 53,
   "metadata": {},
   "outputs": [
    {
     "name": "stdout",
     "output_type": "stream",
     "text": [
      "['5.0', '5.0', '4.0', '5.0', '5.0', '2.0', '4.0', '3.0', '4.0', '5.0', '4.0', '5.0', '5.0', '5.0', '4.0', '5.0', '5.0', '5.0', '5.0', '4.0', '4.0', '5.0', '5.0', '2.0', '5.0', '5.0', '5.0', '1.0', '5.0', '2.0', '3.0', '5.0', '5.0', '1.0', '5.0', '4.0', '5.0', '4.0', '5.0', '4.0', '3.0', '5.0', '5.0', '5.0', '5.0', '4.0', '3.0', '5.0', '3.0', '5.0', '5.0', '5.0', '5.0', '1.0', '1.0', '5.0', '5.0', '5.0', '4.0', '3.0', '5.0', '5.0', '4.0', '2.0', '4.0', '5.0', '5.0', '5.0', '5.0', '1.0', '5.0', '2.0', '5.0', '5.0', '4.0', '5.0', '3.0', '5.0', '3.0', '5.0', '5.0', '3.0', '4.0', '2.0', '1.0', '5.0', '5.0', '5.0', '5.0', '1.0', '5.0', '5.0', '5.0', '3.0', '4.0', '5.0', '1.0', '5.0', '5.0', '5.0', '5.0', '5.0', '5.0', '5.0', '2.0', '5.0', '5.0', '5.0', '5.0', '5.0', '5.0', '4.0', '4.0', '5.0', '5.0', '5.0', '5.0', '4.0', '3.0', '5.0', '5.0', '4.0', '5.0', '5.0', '5.0', '5.0', '5.0', '5.0', '5.0', '5.0', '5.0', '2.0', '5.0', '5.0', '4.0', '5.0', '5.0', '5.0', '5.0', '5.0', '5.0', '3.0', '5.0', '5.0', '5.0', '4.0', '5.0', '5.0', '2.0', '2.0', '5.0', '5.0', '5.0', '5.0', '2.0', '5.0', '3.0', '5.0', '2.0', '2.0', '3.0', '3.0', '5.0', '3.0', '5.0', '5.0', '3.0', '5.0', '5.0', '2.0', '4.0', '5.0', '5.0', '1.0', '5.0', '5.0', '3.0', '5.0', '5.0', '5.0', '5.0', '5.0', '5.0', '5.0', '5.0', '5.0', '5.0', '5.0', '5.0', '5.0', '5.0', '5.0', '5.0', '4.0', '3.0', '3.0', '5.0', '5.0', '3.0', '5.0', '5.0', '5.0', '5.0', '5.0', '2.0', '5.0', '3.0', '4.0', '5.0', '5.0', '1.0', '5.0', '3.0', '3.0', '5.0', '5.0', '5.0', '5.0', '4.0', '5.0', '5.0', '5.0', '5.0', '4.0', '5.0', '5.0', '5.0', '4.0', '5.0', '5.0', '3.0', '5.0', '5.0', '3.0', '5.0', '5.0', '5.0', '5.0', '5.0', '5.0', '4.0', '4.0', '5.0', '5.0', '1.0', '5.0', '3.0', '3.0', '2.0', '1.0', '5.0', '5.0', '5.0', '5.0', '5.0', '5.0', '5.0', '3.0', '5.0', '5.0', '5.0', '3.0', '5.0', '3.0', '5.0', '3.0', '5.0', '4.0', '5.0', '4.0', '5.0', '5.0', '5.0', '5.0', '3.0', '3.0', '5.0', '5.0', '5.0', '5.0', '5.0', '5.0', '4.0', '5.0', '5.0', '5.0', '5.0', '3.0', '5.0', '5.0', '5.0', '4.0', '4.0', '5.0', '5.0', '1.0', '5.0', '5.0', '5.0', '4.0', '5.0', '5.0', '5.0', '5.0', '5.0', '5.0', '5.0', '3.0', '3.0', '2.0', '5.0', '5.0', '5.0', '5.0', '5.0', '5.0', '5.0', '5.0', '1.0', '5.0', '5.0', '5.0', '5.0', '5.0', '3.0', '5.0', '5.0', '3.0', '5.0', '5.0', '5.0', '5.0', '4.0', '5.0', '3.0', '1.0', '5.0', '5.0', '5.0', '2.0', '3.0', '3.0', '4.0', '3.0', '5.0', '5.0', '5.0', '5.0', '5.0', '3.0', '5.0', '5.0', '5.0', '5.0', '5.0', '5.0', '5.0', '5.0', '5.0', '5.0', '3.0', '5.0', '5.0', '1.0', '5.0', '5.0', '5.0', '5.0', '5.0', '5.0', '5.0', '5.0', '5.0', '5.0', '4.0', '5.0', '3.0', '5.0', '5.0', '5.0', '4.0', '4.0', '5.0', '5.0', '3.0', '4.0', '5.0', '4.0', '5.0', '5.0', '5.0', '5.0', '4.0', '2.0', '5.0', '5.0', '5.0', '5.0', '5.0', '5.0', '5.0', '5.0', '5.0', '5.0', '5.0', '3.0', '5.0', '5.0', '5.0', '5.0', '5.0', '5.0', '5.0', '5.0', '5.0', '5.0', '5.0', '5.0', '4.0', '5.0', '4.0', '3.0', '3.0', '5.0', '3.0', '1.0', '5.0', '5.0', '5.0', '5.0', '4.0', '5.0', '5.0', '5.0', '2.0', '5.0', '5.0', '5.0', '5.0', '3.0', '5.0', '5.0', '5.0', '5.0', '5.0', '5.0', '3.0', '1.0', '5.0', '4.0', '5.0', '5.0', '5.0', '4.0', '4.0', '5.0', '5.0', '5.0', '5.0', '3.0', '5.0', '5.0', '5.0', '5.0', '3.0', '5.0', '5.0', '4.0', '5.0', '5.0', '5.0', '5.0', '5.0', '3.0', '5.0', '5.0', '3.0', '5.0', '5.0', '2.0', '5.0', '5.0', '5.0', '5.0', '5.0', '4.0', '5.0', '2.0', '5.0', '5.0', '5.0', '4.0', '5.0', '5.0', '5.0', '5.0', '5.0', '5.0', '5.0', '5.0', '5.0', '5.0', '5.0', '5.0', '5.0', '5.0', '3.0', '5.0', '5.0', '3.0', '4.0', '3.0', '5.0', '5.0', '5.0', '5.0', '5.0', '2.0', '5.0', '1.0', '5.0', '5.0', '5.0', '5.0', '5.0', '5.0', '5.0', '3.0', '4.0', '5.0', '5.0', '5.0', '5.0', '5.0', '5.0', '5.0', '4.0', '1.0', '5.0', '5.0', '1.0', '5.0', '1.0', '5.0', '5.0', '5.0', '5.0', '5.0', '5.0', '5.0', '5.0', '5.0', '5.0', '5.0', '5.0', '5.0', '5.0', '1.0', '5.0', '5.0', '1.0', '5.0', '5.0', '4.0', '4.0', '3.0', '5.0', '5.0', '5.0', '5.0', '4.0', '4.0', '5.0', '3.0', '5.0', '5.0', '5.0', '3.0', '5.0', '5.0', '1.0', '5.0', '4.0', '3.0', '4.0', '3.0', '5.0', '5.0', '3.0', '5.0', '5.0', '5.0', '5.0', '5.0', '2.0', '4.0', '5.0', '5.0', '5.0', '5.0', '5.0', '5.0', '5.0', '5.0', '5.0', '5.0', '5.0', '5.0', '5.0', '5.0', '4.0', '4.0', '5.0', '5.0', '3.0', '5.0', '5.0', '5.0', '1.0', '5.0', '5.0', '3.0', '4.0', '5.0', '4.0', '5.0', '5.0', '5.0', '3.0', '5.0', '5.0', '5.0', '5.0', '5.0', '5.0', '3.0', '5.0', '1.0', '5.0', '5.0', '3.0', '4.0', '3.0', '3.0', '5.0', '5.0', '3.0', '5.0', '5.0', '5.0', '5.0', '3.0', '5.0', '2.0', '3.0', '5.0', '5.0', '5.0', '5.0', '5.0', '5.0', '5.0', '5.0', '5.0', '5.0', '5.0', '5.0', '5.0', '4.0', '5.0', '5.0', '3.0', '5.0', '5.0', '5.0', '4.0', '4.0', '2.0', '3.0', '5.0', '5.0', '4.0', '5.0', '4.0', '4.0', '5.0', '5.0', '5.0', '5.0', '5.0', '5.0', '5.0', '5.0', '5.0', '5.0', '5.0', '5.0', '3.0', '5.0', '5.0', '5.0', '5.0', '1.0', '4.0', '5.0', '5.0', '5.0', '5.0', '5.0', '2.0', '5.0', '5.0', '2.0', '5.0', '5.0', '5.0', '5.0', '5.0', '5.0', '5.0', '5.0', '5.0', '5.0', '5.0', '2.0', '5.0', '5.0', '1.0', '3.0', '5.0', '5.0', '2.0', '3.0', '5.0', '5.0', '5.0', '3.0', '5.0', '5.0', '5.0', '5.0', '5.0', '5.0', '3.0', '4.0', '4.0', '5.0', '1.0', '5.0', '5.0', '5.0', '5.0', '5.0', '4.0', '5.0', '4.0', '5.0', '5.0', '3.0', '5.0', '3.0', '5.0', '1.0', '5.0', '5.0', '3.0', '5.0', '5.0', '4.0', '5.0', '5.0', '5.0', '5.0', '3.0', '5.0', '4.0', '1.0', '5.0', '3.0', '5.0', '3.0', '5.0', '5.0', '5.0', '4.0', '5.0', '5.0', '2.0', '4.0', '1.0', '5.0', '5.0', '4.0', '3.0', '5.0', '5.0', '4.0', '4.0', '3.0', '5.0', '5.0', '4.0', '5.0', '5.0', '4.0', '5.0', '5.0', '5.0', '2.0', '5.0', '1.0', '1.0', '5.0', '5.0', '5.0', '5.0', '2.0', '5.0', '5.0', '5.0', '5.0', '5.0', '5.0', '5.0', '3.0', '5.0', '5.0', '4.0', '5.0', '5.0', '5.0', '5.0', '5.0', '5.0', '5.0', '5.0', '3.0', '5.0', '5.0', '4.0', '5.0', '3.0', '5.0', '5.0', '5.0', '5.0', '5.0', '5.0', '5.0', '3.0', '5.0', '5.0', '2.0', '5.0', '5.0', '5.0', '5.0', '2.0', '5.0', '5.0', '5.0', '3.0', '4.0', '5.0', '2.0', '5.0', '5.0', '5.0', '2.0', '5.0', '3.0', '5.0', '5.0', '5.0', '5.0', '5.0', '5.0', '5.0', '5.0', '5.0', '5.0', '5.0', '4.0', '4.0', '5.0', '1.0', '3.0', '5.0', '5.0', '5.0', '1.0', '5.0', '5.0', '5.0', '5.0', '3.0', '5.0', '5.0', '2.0', '5.0', '5.0', '1.0', '5.0', '5.0', '5.0', '5.0', '5.0', '5.0', '5.0', '5.0', '5.0', '5.0', '4.0', '5.0', '5.0', '1.0', '3.0', '5.0', '5.0', '5.0', '5.0', '5.0', '5.0', '5.0', '5.0', '5.0', '2.0', '5.0', '5.0', '5.0', '4.0', '5.0', '5.0', '5.0', '5.0', '5.0', '4.0', '5.0', '4.0', '1.0', '5.0', '5.0', '5.0', '5.0', '5.0', '5.0', '5.0', '3.0', '4.0', '5.0', '5.0', '5.0', '5.0', '5.0', '5.0', '5.0', '5.0', '4.0', '5.0', '5.0', '4.0', '5.0', '5.0', '5.0', '5.0', '3.0', '5.0', '5.0', '5.0', '5.0', '5.0', '3.0', '5.0', '5.0', '5.0', '5.0', '1.0', '5.0', '5.0', '5.0', '5.0', '1.0', '3.0', '5.0', '5.0', '5.0', '4.0', '5.0', '1.0', '3.0', '5.0', '5.0', '5.0', '5.0', '5.0', '5.0', '5.0', '5.0', '5.0', '5.0', '3.0', '5.0', '5.0', '5.0', '5.0', '4.0', '5.0', '5.0', '4.0', '5.0', '5.0', '5.0', '5.0', '5.0', '5.0', '1.0', '5.0', '3.0', '5.0', '5.0', '5.0', '5.0', '4.0', '5.0', '5.0', '5.0', '3.0', '5.0', '5.0', '5.0', '5.0', '5.0', '5.0', '5.0', '5.0', '5.0', '5.0', '4.0', '5.0', '5.0', '4.0', '5.0', '4.0', '3.0', '5.0', '5.0', '4.0', '5.0', '5.0', '5.0', '5.0', '3.0', '4.0', '5.0', '5.0', '5.0', '5.0', '5.0', '5.0', '2.0', '4.0', '5.0', '5.0', '3.0', '5.0', '5.0', '3.0', '4.0', '1.0', '4.0', '5.0', '5.0', '5.0', '5.0', '5.0', '4.0', '5.0', '5.0', '3.0', '5.0', '5.0', '5.0', '5.0', '5.0', '5.0', '5.0', '5.0', '5.0', '5.0', '3.0', '5.0', '5.0', '4.0', '5.0', '5.0', '5.0', '5.0', '4.0', '5.0', '5.0', '4.0', '3.0', '3.0', '5.0', '5.0', '2.0', '5.0', '4.0', '4.0', '4.0', '5.0', '5.0', '5.0', '4.0', '5.0', '5.0', '3.0', '5.0', '5.0', '1.0', '5.0', '5.0', '5.0', '4.0', '5.0', '4.0', '4.0', '5.0', '5.0', '4.0', '5.0', '3.0', '2.0', '5.0', '4.0', '5.0', '5.0', '3.0', '5.0', '5.0', '5.0', '3.0', '5.0', '2.0', '3.0', '5.0', '5.0', '3.0', '5.0', '5.0', '5.0', '5.0', '5.0', '5.0', '5.0', '5.0', '4.0', '5.0', '5.0', '4.0', '5.0', '3.0', '5.0', '5.0', '5.0', '5.0', '5.0', '5.0', '5.0', '5.0', '5.0', '5.0', '5.0', '1.0', '5.0', '5.0', '5.0', '5.0', '5.0', '3.0', '5.0', '4.0', '5.0', '5.0', '4.0', '5.0', '5.0', '4.0', '5.0', '5.0', '5.0', '5.0', '4.0', '4.0', '5.0', '5.0', '2.0', '5.0', '5.0', '3.0'] ['5.0', '5.0', '4.0', '4.0', '5.0', '4.0', '4.0', '4.0', '3.0', '4.0', '3.0', '4.0', '5.0', '5.0', '4.0', '4.0', '5.0', '5.0', '5.0', '4.0', '4.0', '5.0', '5.0', '2.0', '5.0', '5.0', '5.0', '3.0', '5.0', '4.0', '4.0', '5.0', '4.0', '2.0', '5.0', '4.0', '5.0', '3.0', '5.0', '3.0', '4.0', '5.0', '5.0', '5.0', '4.0', '4.0', '4.0', '5.0', '3.0', '3.0', '4.0', '5.0', '5.0', '1.0', '3.0', '3.0', '5.0', '4.0', '4.0', '3.0', '5.0', '5.0', '3.0', '3.0', '5.0', '5.0', '4.0', '5.0', '4.0', '4.0', '5.0', '2.0', '5.0', '4.0', '5.0', '5.0', '2.0', '5.0', '3.0', '5.0', '5.0', '3.0', '5.0', '3.0', '4.0', '5.0', '5.0', '4.0', '5.0', '2.0', '5.0', '5.0', '5.0', '4.0', '4.0', '4.0', '3.0', '5.0', '5.0', '4.0', '4.0', '5.0', '4.0', '5.0', '5.0', '4.0', '3.0', '5.0', '5.0', '4.0', '2.0', '3.0', '4.0', '5.0', '5.0', '5.0', '5.0', '4.0', '4.0', '5.0', '5.0', '4.0', '5.0', '4.0', '5.0', '5.0', '5.0', '4.0', '5.0', '5.0', '4.0', '4.0', '5.0', '5.0', '4.0', '5.0', '5.0', '5.0', '5.0', '5.0', '4.0', '4.0', '5.0', '5.0', '5.0', '3.0', '4.0', '5.0', '3.0', '2.0', '4.0', '5.0', '5.0', '5.0', '1.0', '5.0', '3.0', '5.0', '2.0', '4.0', '3.0', '3.0', '3.0', '2.0', '5.0', '4.0', '4.0', '4.0', '5.0', '4.0', '4.0', '5.0', '4.0', '1.0', '5.0', '5.0', '5.0', '5.0', '5.0', '5.0', '4.0', '5.0', '4.0', '5.0', '5.0', '5.0', '5.0', '5.0', '5.0', '3.0', '2.0', '5.0', '4.0', '3.0', '4.0', '3.0', '5.0', '5.0', '5.0', '4.0', '5.0', '5.0', '5.0', '5.0', '3.0', '4.0', '3.0', '4.0', '5.0', '4.0', '5.0', '5.0', '4.0', '3.0', '5.0', '3.0', '3.0', '3.0', '4.0', '3.0', '4.0', '4.0', '4.0', '5.0', '4.0', '4.0', '4.0', '4.0', '5.0', '5.0', '4.0', '5.0', '5.0', '4.0', '4.0', '5.0', '5.0', '5.0', '5.0', '5.0', '2.0', '4.0', '1.0', '5.0', '4.0', '4.0', '3.0', '5.0', '3.0', '2.0', '5.0', '5.0', '5.0', '4.0', '4.0', '5.0', '4.0', '2.0', '5.0', '3.0', '4.0', '4.0', '5.0', '4.0', '1.0', '1.0', '5.0', '4.0', '5.0', '5.0', '4.0', '4.0', '5.0', '5.0', '3.0', '2.0', '5.0', '4.0', '4.0', '4.0', '5.0', '5.0', '4.0', '4.0', '5.0', '3.0', '5.0', '3.0', '5.0', '5.0', '5.0', '4.0', '4.0', '4.0', '5.0', '2.0', '5.0', '5.0', '5.0', '4.0', '3.0', '5.0', '5.0', '5.0', '5.0', '5.0', '5.0', '3.0', '3.0', '2.0', '5.0', '5.0', '4.0', '3.0', '5.0', '3.0', '5.0', '5.0', '3.0', '4.0', '5.0', '4.0', '5.0', '5.0', '3.0', '5.0', '4.0', '4.0', '5.0', '5.0', '4.0', '5.0', '5.0', '1.0', '2.0', '2.0', '4.0', '5.0', '5.0', '4.0', '3.0', '3.0', '4.0', '3.0', '5.0', '5.0', '5.0', '5.0', '5.0', '3.0', '5.0', '4.0', '5.0', '5.0', '4.0', '4.0', '5.0', '5.0', '5.0', '2.0', '3.0', '5.0', '5.0', '1.0', '4.0', '4.0', '5.0', '3.0', '5.0', '5.0', '5.0', '5.0', '5.0', '5.0', '5.0', '5.0', '2.0', '5.0', '5.0', '5.0', '4.0', '4.0', '5.0', '5.0', '3.0', '4.0', '5.0', '4.0', '4.0', '5.0', '5.0', '3.0', '3.0', '1.0', '4.0', '5.0', '5.0', '5.0', '5.0', '5.0', '3.0', '5.0', '4.0', '5.0', '5.0', '4.0', '5.0', '5.0', '4.0', '5.0', '5.0', '4.0', '5.0', '5.0', '5.0', '5.0', '5.0', '5.0', '5.0', '4.0', '4.0', '2.0', '2.0', '4.0', '3.0', '4.0', '5.0', '5.0', '5.0', '5.0', '3.0', '3.0', '4.0', '5.0', '2.0', '3.0', '4.0', '5.0', '4.0', '4.0', '5.0', '5.0', '4.0', '5.0', '5.0', '5.0', '2.0', '1.0', '5.0', '3.0', '4.0', '5.0', '5.0', '4.0', '4.0', '4.0', '5.0', '5.0', '5.0', '2.0', '4.0', '5.0', '1.0', '3.0', '3.0', '5.0', '5.0', '3.0', '5.0', '5.0', '4.0', '5.0', '4.0', '5.0', '4.0', '5.0', '5.0', '4.0', '5.0', '5.0', '5.0', '4.0', '5.0', '5.0', '5.0', '5.0', '5.0', '5.0', '4.0', '4.0', '5.0', '5.0', '5.0', '5.0', '4.0', '5.0', '5.0', '5.0', '5.0', '5.0', '4.0', '5.0', '5.0', '5.0', '5.0', '4.0', '4.0', '5.0', '2.0', '5.0', '3.0', '3.0', '5.0', '4.0', '5.0', '5.0', '5.0', '1.0', '5.0', '3.0', '5.0', '5.0', '4.0', '5.0', '5.0', '4.0', '5.0', '3.0', '4.0', '5.0', '5.0', '5.0', '5.0', '5.0', '5.0', '5.0', '5.0', '1.0', '5.0', '5.0', '3.0', '4.0', '3.0', '5.0', '5.0', '5.0', '5.0', '4.0', '5.0', '3.0', '5.0', '4.0', '5.0', '5.0', '3.0', '3.0', '5.0', '2.0', '5.0', '4.0', '2.0', '4.0', '5.0', '2.0', '5.0', '3.0', '4.0', '5.0', '4.0', '3.0', '5.0', '4.0', '5.0', '3.0', '4.0', '5.0', '5.0', '5.0', '5.0', '5.0', '4.0', '4.0', '5.0', '4.0', '4.0', '5.0', '5.0', '5.0', '5.0', '5.0', '5.0', '3.0', '5.0', '4.0', '4.0', '4.0', '4.0', '5.0', '5.0', '5.0', '5.0', '5.0', '5.0', '4.0', '5.0', '5.0', '5.0', '3.0', '5.0', '5.0', '5.0', '4.0', '5.0', '4.0', '4.0', '5.0', '5.0', '5.0', '3.0', '5.0', '1.0', '5.0', '4.0', '5.0', '5.0', '4.0', '5.0', '4.0', '5.0', '5.0', '5.0', '5.0', '5.0', '5.0', '4.0', '4.0', '5.0', '2.0', '4.0', '4.0', '5.0', '4.0', '3.0', '4.0', '5.0', '5.0', '3.0', '5.0', '5.0', '4.0', '4.0', '4.0', '4.0', '2.0', '4.0', '5.0', '4.0', '5.0', '5.0', '5.0', '5.0', '5.0', '5.0', '5.0', '5.0', '4.0', '5.0', '5.0', '4.0', '4.0', '4.0', '3.0', '3.0', '5.0', '4.0', '3.0', '2.0', '2.0', '2.0', '2.0', '5.0', '5.0', '4.0', '2.0', '4.0', '1.0', '5.0', '5.0', '5.0', '5.0', '5.0', '3.0', '4.0', '5.0', '5.0', '5.0', '5.0', '1.0', '4.0', '4.0', '5.0', '5.0', '3.0', '3.0', '5.0', '5.0', '2.0', '5.0', '5.0', '3.0', '4.0', '4.0', '1.0', '5.0', '5.0', '4.0', '5.0', '5.0', '5.0', '5.0', '5.0', '5.0', '5.0', '5.0', '1.0', '5.0', '5.0', '1.0', '3.0', '5.0', '5.0', '4.0', '4.0', '4.0', '5.0', '5.0', '5.0', '5.0', '5.0', '5.0', '4.0', '5.0', '5.0', '4.0', '3.0', '4.0', '5.0', '3.0', '4.0', '5.0', '5.0', '4.0', '4.0', '4.0', '4.0', '5.0', '5.0', '3.0', '4.0', '4.0', '3.0', '5.0', '3.0', '5.0', '5.0', '2.0', '5.0', '4.0', '4.0', '5.0', '4.0', '5.0', '5.0', '4.0', '3.0', '5.0', '1.0', '5.0', '4.0', '5.0', '4.0', '5.0', '5.0', '5.0', '4.0', '5.0', '5.0', '1.0', '3.0', '1.0', '4.0', '5.0', '4.0', '4.0', '4.0', '2.0', '3.0', '4.0', '4.0', '5.0', '5.0', '4.0', '4.0', '5.0', '2.0', '5.0', '5.0', '5.0', '4.0', '5.0', '1.0', '3.0', '5.0', '5.0', '5.0', '5.0', '2.0', '5.0', '4.0', '3.0', '5.0', '5.0', '3.0', '4.0', '4.0', '5.0', '4.0', '2.0', '5.0', '4.0', '5.0', '5.0', '5.0', '4.0', '4.0', '5.0', '3.0', '4.0', '4.0', '2.0', '4.0', '3.0', '5.0', '5.0', '5.0', '4.0', '2.0', '5.0', '4.0', '5.0', '5.0', '5.0', '3.0', '5.0', '5.0', '5.0', '5.0', '3.0', '4.0', '5.0', '5.0', '4.0', '4.0', '4.0', '2.0', '2.0', '5.0', '5.0', '2.0', '5.0', '4.0', '5.0', '5.0', '5.0', '5.0', '5.0', '5.0', '5.0', '5.0', '4.0', '5.0', '5.0', '4.0', '4.0', '5.0', '2.0', '5.0', '5.0', '4.0', '5.0', '3.0', '5.0', '5.0', '5.0', '4.0', '4.0', '5.0', '5.0', '3.0', '3.0', '5.0', '1.0', '4.0', '5.0', '5.0', '4.0', '5.0', '4.0', '5.0', '5.0', '5.0', '5.0', '4.0', '4.0', '5.0', '1.0', '4.0', '1.0', '5.0', '4.0', '3.0', '4.0', '4.0', '4.0', '5.0', '3.0', '2.0', '5.0', '4.0', '5.0', '5.0', '4.0', '4.0', '5.0', '5.0', '5.0', '2.0', '5.0', '4.0', '5.0', '5.0', '5.0', '5.0', '3.0', '5.0', '5.0', '5.0', '4.0', '4.0', '4.0', '5.0', '4.0', '5.0', '5.0', '1.0', '1.0', '5.0', '5.0', '5.0', '5.0', '1.0', '3.0', '4.0', '5.0', '5.0', '2.0', '5.0', '5.0', '4.0', '5.0', '5.0', '2.0', '5.0', '2.0', '4.0', '5.0', '1.0', '5.0', '5.0', '5.0', '5.0', '2.0', '4.0', '4.0', '4.0', '5.0', '4.0', '1.0', '1.0', '5.0', '5.0', '5.0', '3.0', '5.0', '4.0', '5.0', '4.0', '5.0', '5.0', '5.0', '5.0', '5.0', '5.0', '5.0', '5.0', '2.0', '5.0', '5.0', '5.0', '5.0', '5.0', '4.0', '5.0', '5.0', '5.0', '2.0', '3.0', '3.0', '5.0', '4.0', '5.0', '2.0', '5.0', '5.0', '5.0', '4.0', '3.0', '4.0', '4.0', '5.0', '5.0', '5.0', '4.0', '1.0', '4.0', '3.0', '5.0', '4.0', '5.0', '5.0', '4.0', '5.0', '4.0', '4.0', '4.0', '5.0', '4.0', '5.0', '4.0', '4.0', '4.0', '2.0', '4.0', '5.0', '4.0', '5.0', '3.0', '5.0', '5.0', '4.0', '5.0', '5.0', '5.0', '1.0', '5.0', '5.0', '3.0', '5.0', '5.0', '3.0', '5.0', '4.0', '5.0', '4.0', '4.0', '4.0', '5.0', '3.0', '5.0', '2.0', '5.0', '5.0', '1.0', '5.0', '5.0', '2.0', '5.0', '4.0', '5.0', '3.0', '4.0', '4.0', '3.0', '5.0', '5.0', '4.0', '4.0', '4.0', '5.0', '5.0', '4.0', '4.0', '5.0', '5.0', '5.0', '2.0', '5.0', '3.0', '5.0', '4.0', '4.0', '5.0', '4.0', '4.0', '5.0', '4.0', '5.0', '5.0', '5.0', '2.0', '4.0', '3.0', '5.0', '1.0', '5.0', '5.0', '5.0', '4.0', '5.0', '5.0', '5.0', '5.0', '2.0', '5.0', '4.0', '4.0', '4.0', '5.0', '5.0', '5.0', '3.0', '2.0', '5.0', '2.0', '3.0', '4.0', '5.0', '4.0', '5.0', '5.0', '5.0', '5.0', '4.0', '5.0', '5.0', '4.0', '5.0', '5.0', '5.0', '4.0', '4.0', '3.0', '3.0', '5.0', '4.0', '4.0', '5.0', '5.0', '5.0', '5.0', '4.0', '5.0', '5.0', '4.0', '5.0', '5.0', '5.0', '4.0', '5.0', '3.0', '3.0', '4.0', '5.0', '4.0', '4.0', '5.0', '5.0', '3.0', '5.0', '5.0', '5.0', '5.0', '5.0', '4.0', '5.0', '5.0', '4.0', '4.0', '5.0', '5.0']\n",
      "Hard Voting Score  0\n"
     ]
    }
   ],
   "source": [
    "# importing libraries\n",
    "from sklearn.ensemble import VotingClassifier\n",
    "from sklearn.linear_model import LogisticRegression\n",
    "from sklearn.svm import SVC\n",
    "from sklearn.tree import DecisionTreeClassifier\n",
    "from sklearn.datasets import load_iris\n",
    "from sklearn.metrics import accuracy_score\n",
    "from sklearn.model_selection import train_test_split\n",
    "\n",
    "# loading iris dataset\n",
    "iris = load_iris()\n",
    "X = dfr_bow\n",
    "Y = y\n",
    "\n",
    "# train_test_split\n",
    "X_train, X_test, y_train, y_test = train_test_split(X,Y,test_size = 0.20,random_state = 42)\n",
    "\n",
    "estimator = []\n",
    "estimator.append(('LR',LogisticRegression(solver ='lbfgs',multi_class ='multinomial',max_iter = 200)))\n",
    "estimator.append(('SVC', SVC(gamma ='auto', probability = True)))\n",
    "estimator.append(('DTC', DecisionTreeClassifier()))\n",
    "\n",
    "# Voting Classifier with hard voting\n",
    "vot_hard = VotingClassifier(estimators = estimator, voting ='hard')\n",
    "vot_hard.fit(X_train, y_train)\n",
    "y_pred = vot_hard.predict(X_test)\n",
    "YY=y_pred\n",
    "print(YY.tolist(),y_test.tolist())\n",
    "# using accuracy_score metric to predict accuracy\n",
    "score = accuracy_score(y_test, y_pred)\n",
    "print(\"Hard Voting Score % d\" % score)\n",
    "\n"
   ]
  },
  {
   "cell_type": "code",
   "execution_count": 54,
   "metadata": {},
   "outputs": [
    {
     "data": {
      "text/plain": [
       "2       5.0\n",
       "3       5.0\n",
       "4       5.0\n",
       "5       4.0\n",
       "6       4.0\n",
       "       ... \n",
       "5997    5.0\n",
       "5998    5.0\n",
       "5999    5.0\n",
       "6000    5.0\n",
       "6001    5.0\n",
       "Name: rating, Length: 6000, dtype: object"
      ]
     },
     "execution_count": 54,
     "metadata": {},
     "output_type": "execute_result"
    }
   ],
   "source": [
    "y"
   ]
  },
  {
   "cell_type": "code",
   "execution_count": 55,
   "metadata": {},
   "outputs": [
    {
     "data": {
      "text/plain": [
       "array(['5.0', '5.0', '4.0', ..., '5.0', '5.0', '3.0'], dtype=object)"
      ]
     },
     "execution_count": 55,
     "metadata": {},
     "output_type": "execute_result"
    }
   ],
   "source": [
    "YY"
   ]
  },
  {
   "cell_type": "markdown",
   "metadata": {},
   "source": [
    "## TFIDF"
   ]
  },
  {
   "cell_type": "code",
   "execution_count": 56,
   "metadata": {},
   "outputs": [],
   "source": [
    "from sklearn.feature_extraction.text import TfidfVectorizer"
   ]
  },
  {
   "cell_type": "code",
   "execution_count": 57,
   "metadata": {},
   "outputs": [],
   "source": [
    "tfidf = TfidfVectorizer()\n",
    "X = tfidf.fit_transform(df_slice['review'])"
   ]
  },
  {
   "cell_type": "code",
   "execution_count": 58,
   "metadata": {},
   "outputs": [
    {
     "name": "stdout",
     "output_type": "stream",
     "text": [
      "SGD  --->  0.5777777777777777\n",
      "LGR  --->  0.62\n",
      "LGR-CV  --->  0.6283333333333333\n",
      "SVM  --->  0.5772222222222222\n",
      "RFC  --->  0.5983333333333334\n",
      "KNN  --->  0.5261111111111111\n",
      "DTC  --->  0.5372222222222223\n"
     ]
    }
   ],
   "source": [
    "classify(pd.DataFrame(X.toarray()), y)"
   ]
  },
  {
   "cell_type": "code",
   "execution_count": 59,
   "metadata": {},
   "outputs": [
    {
     "name": "stdout",
     "output_type": "stream",
     "text": [
      "              precision    recall  f1-score   support\n",
      "\n",
      "         1.0       0.53      0.28      0.36        36\n",
      "         2.0       0.36      0.08      0.13        65\n",
      "         3.0       0.41      0.28      0.33       132\n",
      "         4.0       0.47      0.41      0.44       336\n",
      "         5.0       0.71      0.88      0.79       631\n",
      "\n",
      "    accuracy                           0.62      1200\n",
      "   macro avg       0.49      0.39      0.41      1200\n",
      "weighted avg       0.58      0.62      0.59      1200\n",
      "\n"
     ]
    },
    {
     "data": {
      "text/plain": [
       "[]"
      ]
     },
     "execution_count": 59,
     "metadata": {},
     "output_type": "execute_result"
    }
   ],
   "source": [
    "MajorVoting1(pd.DataFrame(X.toarray()), y)"
   ]
  },
  {
   "cell_type": "markdown",
   "metadata": {},
   "source": [
    "## Word2Vec"
   ]
  },
  {
   "cell_type": "code",
   "execution_count": 60,
   "metadata": {},
   "outputs": [],
   "source": [
    "def get_vec(x):\n",
    "    doc = nlp(x)\n",
    "    return doc.vector.reshape(1, -1)"
   ]
  },
  {
   "cell_type": "code",
   "execution_count": 61,
   "metadata": {},
   "outputs": [],
   "source": [
    "df_slice['vec'] = df_slice['review'].apply(lambda x: get_vec(x))"
   ]
  },
  {
   "cell_type": "code",
   "execution_count": 62,
   "metadata": {},
   "outputs": [
    {
     "data": {
      "text/plain": [
       "array([array([[ 0.5998659 ,  0.34818113,  0.29399577, -0.04515244, -0.12728065,\n",
       "         0.24897787, -0.41581315,  0.03404826,  0.1158189 , -0.05837798,\n",
       "        -0.19987026,  0.02887103, -0.04804997, -0.32905564, -0.27163538,\n",
       "         1.0726136 ,  0.10385918, -0.16421941, -0.22205845, -0.21714643,\n",
       "        -0.19291592,  0.30592066,  0.14186919, -0.23186694, -0.5018955 ,\n",
       "        -0.49095196, -0.05629317, -0.45713717, -0.00413414,  0.18170598,\n",
       "        -0.7464322 , -0.48189378,  0.4456352 , -0.25217858,  0.5465332 ,\n",
       "         0.28237468,  0.02483832, -0.35281107,  0.33799517,  0.8647825 ,\n",
       "        -0.00526203, -0.2788986 , -0.07798304,  0.4335713 , -0.76348376,\n",
       "        -0.27371284,  0.17050731,  0.3854202 ,  0.63453   ,  0.05228823,\n",
       "         0.51067644, -0.21558948,  0.01444174, -0.09271089,  0.07723107,\n",
       "        -0.08244881, -0.14890617, -0.29581535,  0.33333609,  0.06358605,\n",
       "        -0.39076626, -0.26169255, -0.11822994,  0.19464955,  0.01374209,\n",
       "        -0.47871912, -0.2700816 ,  0.4226678 ,  0.05352838,  0.04431945,\n",
       "         0.20123084, -0.18628378,  0.37465137, -0.25311473,  0.19332865,\n",
       "        -0.03750002, -0.22206183,  0.3359531 , -0.09729616, -0.45737377,\n",
       "        -0.03437564,  0.2923155 ,  0.11814417,  0.36348423,  0.11750518,\n",
       "         0.1107369 , -0.5387394 , -0.41807613, -0.5550479 , -0.36522537,\n",
       "        -0.44139582, -0.0487125 ,  0.38797557, -0.2790826 ,  0.467301  ,\n",
       "        -0.11553204]], dtype=float32),\n",
       "       array([[ 0.7671907 ,  0.20602167,  0.30916652, -0.04106057, -0.29402933,\n",
       "         0.2598249 , -0.281999  ,  0.4509573 , -0.17493907,  0.19515958,\n",
       "        -0.19621687,  0.0252989 , -0.02715117, -0.57039   , -0.2325376 ,\n",
       "         1.2059634 ,  0.22280666,  0.06379177, -0.18840916, -0.31381744,\n",
       "        -0.32358956,  0.72338104, -0.227422  , -0.03777112, -0.85071725,\n",
       "        -0.10524169, -0.00959045, -0.55392003,  0.05233538,  0.44103897,\n",
       "        -0.6875725 , -0.6214189 ,  0.41513568, -0.26967475,  0.50063264,\n",
       "         0.24848472, -0.04756846,  0.00371335,  0.35933873,  1.1907032 ,\n",
       "        -0.03674578, -0.72277313, -0.2197014 ,  0.65272486, -0.2953349 ,\n",
       "        -0.41999516,  0.09925839,  0.40152782,  0.8562925 ,  0.296601  ,\n",
       "         0.4682939 , -0.3364074 ,  0.14685155,  0.13540061,  0.42185187,\n",
       "        -0.4419168 ,  0.05077773, -0.08824563,  0.41558224, -0.17065738,\n",
       "        -0.5363815 , -0.52974176,  0.28645474, -0.00476824, -0.22373894,\n",
       "        -0.7385132 , -0.45935333,  0.09725124, -0.20932153, -0.00449391,\n",
       "         0.34237164, -0.10922316,  0.3879851 , -0.06216183,  0.33039492,\n",
       "        -0.20727587, -0.39676785,  0.08366573, -0.3569496 , -0.38696757,\n",
       "        -0.54207295,  0.4939044 , -0.06881116,  0.31023052,  0.13246278,\n",
       "        -0.22839227, -0.7839107 , -0.09153709, -0.58942163, -0.34703442,\n",
       "        -0.6454903 , -0.14716771,  0.3549092 , -0.3183341 , -0.17297265,\n",
       "        -0.22357906]], dtype=float32),\n",
       "       array([[ 0.65939033,  0.3046454 ,  0.03454587, -0.06377488, -0.02215996,\n",
       "         0.47147587, -0.23296356,  0.2519152 ,  0.19963528,  0.15599306,\n",
       "        -0.3398646 , -0.01137812,  0.17618363, -0.6037361 , -0.5382868 ,\n",
       "         1.0263793 ,  0.19987789, -0.15508613, -0.61304355, -0.46027145,\n",
       "        -0.28226504,  0.77234405, -0.03858071, -0.20398314, -0.6622562 ,\n",
       "        -0.22443223, -0.08145675, -0.6199683 , -0.06314487,  0.24648084,\n",
       "        -0.72970325, -0.6870453 ,  0.5530171 , -0.18492348,  0.52263606,\n",
       "         0.10529396,  0.32770827, -0.11403843,  0.27191705,  1.0731356 ,\n",
       "         0.06918126, -0.3398206 , -0.25535905,  0.7195241 , -0.7444048 ,\n",
       "        -0.35517395,  0.1100078 ,  0.44945496,  0.8299901 , -0.05804436,\n",
       "         0.85973775, -0.17765553,  0.11980506, -0.03495134,  0.30270016,\n",
       "        -0.39369002, -0.2968891 , -0.26798394,  0.46889326,  0.15061638,\n",
       "        -0.64821994, -0.5301427 , -0.03913514, -0.09248932,  0.0568409 ,\n",
       "        -0.3184615 , -0.42724314,  0.26390326, -0.04661747,  0.02298956,\n",
       "         0.21739796, -0.15109195,  0.46140888, -0.42033836,  0.07399849,\n",
       "        -0.19053115, -0.3218887 ,  0.22858725, -0.16506417, -0.5715007 ,\n",
       "        -0.20259628,  0.4505822 ,  0.17844526,  0.3572492 ,  0.11402099,\n",
       "         0.20982248, -0.49371448, -0.33574006, -0.54578984, -0.42150965,\n",
       "        -0.39415967,  0.00939099,  0.5766752 , -0.05978283,  0.09338225,\n",
       "        -0.2951134 ]], dtype=float32),\n",
       "       ...,\n",
       "       array([[-0.09885123,  0.03108161,  0.11577172, -0.1555951 , -0.00905482,\n",
       "         0.4467391 , -0.34700638,  0.45208526,  0.27612826,  0.00345696,\n",
       "        -0.28840336, -0.02971702,  0.2981403 , -0.5394516 , -0.26753938,\n",
       "         1.0319467 ,  0.14307824, -0.2527327 , -0.41962928, -0.30423787,\n",
       "         0.01801013, -0.07227159,  0.13532627, -0.03337849, -0.42750022,\n",
       "        -0.35990512,  0.1210776 , -0.51715386, -0.3942093 ,  0.49211177,\n",
       "        -0.7068612 , -0.46010676,  0.45950773, -0.41992956,  0.10872458,\n",
       "         0.2623851 ,  0.46946755,  0.03243419,  0.484684  ,  0.90305793,\n",
       "         0.17846385, -0.5505364 ,  0.1310139 ,  0.52447176, -0.73751634,\n",
       "        -0.30154014,  0.23991156,  0.3374971 ,  0.41093317, -0.21413064,\n",
       "         0.68361133, -0.11063493,  0.03657   , -0.15897503, -0.09727895,\n",
       "        -0.17608885, -0.16748902, -0.1336043 ,  0.09171689,  0.16356575,\n",
       "        -0.5353376 , -0.2630769 , -0.15096551,  0.07787631,  0.0366128 ,\n",
       "        -0.3569435 , -0.32279453, -0.16990371,  0.44219685,  0.01333207,\n",
       "         0.37138528, -0.3197918 ,  0.3723612 , -0.4716395 ,  0.32917982,\n",
       "         0.1577128 , -0.27737498,  0.4947396 , -0.4401048 , -0.35845286,\n",
       "        -0.5110162 ,  0.25188684,  0.03576933,  0.46431175,  0.23331939,\n",
       "         0.21351837, -0.47471642, -0.13435848, -0.51154524, -0.31236318,\n",
       "        -0.31685778,  0.2175375 ,  0.15038617, -0.02730809, -0.08456909,\n",
       "        -0.29301548]], dtype=float32),\n",
       "       array([[ 0.15487818,  0.1226188 ,  0.11463262, -0.12752767, -0.35132855,\n",
       "         0.18359058, -0.08277142,  0.40722373,  0.00329499,  0.2891829 ,\n",
       "        -0.49982616,  0.02315446,  0.21646401, -0.40322608, -0.10746219,\n",
       "         1.0061615 ,  0.29692867, -0.00847532, -0.1908644 , -0.31335226,\n",
       "         0.09597217,  0.41727215,  0.23579203,  0.20933284, -0.57414305,\n",
       "        -0.06500401, -0.10001896, -0.6119675 , -0.09859596,  0.2516911 ,\n",
       "        -0.8161112 , -0.39511138,  0.26646197, -0.37152046,  0.27141327,\n",
       "         0.09143102,  0.4288621 , -0.04749295,  0.13131742,  0.7718999 ,\n",
       "         0.3421235 , -0.44301504, -0.17709485,  0.5662419 , -0.65808696,\n",
       "        -0.5594121 ,  0.00277615,  0.5964041 ,  0.39136928, -0.13069235,\n",
       "         0.6426023 , -0.37008125,  0.31723857,  0.1039467 , -0.06313199,\n",
       "        -0.38377693,  0.02392106, -0.01934787,  0.5203625 ,  0.08884374,\n",
       "        -0.4435001 , -0.40743163, -0.01534811,  0.06876849,  0.09446198,\n",
       "        -0.48157695, -0.26154122,  0.05583957, -0.00768126,  0.03761601,\n",
       "         0.45238492, -0.231341  ,  0.16027394, -0.31175908,  0.5933286 ,\n",
       "        -0.03063609, -0.3090463 ,  0.20512065, -0.31331497, -0.50829566,\n",
       "        -0.3395323 , -0.00157366, -0.05106616,  0.28842115,  0.06567802,\n",
       "        -0.09022778, -0.517726  , -0.20575142, -0.5115709 , -0.20442696,\n",
       "        -0.2115511 ,  0.00339025,  0.22637904, -0.17423451,  0.01950748,\n",
       "        -0.2031448 ]], dtype=float32),\n",
       "       array([[ 0.30814448,  0.37657678,  0.05409722, -0.08569381,  0.03386304,\n",
       "         0.27525535, -0.30751598, -0.04700473,  0.25133544,  0.16955128,\n",
       "        -0.1849768 , -0.19752464, -0.09305045, -0.52975297, -0.4957052 ,\n",
       "         1.25702   ,  0.14517982, -0.15558074, -0.41609713, -0.04927542,\n",
       "        -0.29826632,  0.3950818 , -0.06204313, -0.15239483, -0.7353831 ,\n",
       "        -0.36669075, -0.38246605, -0.48358977,  0.0696205 ,  0.27368996,\n",
       "        -0.6393734 , -0.6402438 ,  0.6644741 , -0.22758496,  0.06483662,\n",
       "         0.25598556,  0.10084173, -0.19268753,  0.48255175,  1.0910254 ,\n",
       "         0.0739539 , -0.5013104 ,  0.03662098,  0.6781016 , -0.8348918 ,\n",
       "        -0.14165276,  0.27126405,  0.1830573 ,  0.7316007 ,  0.19053727,\n",
       "         0.44957268, -0.3071598 , -0.04402949, -0.12012032,  0.3360692 ,\n",
       "        -0.23701382, -0.22833158, -0.02002615,  0.16836467,  0.19054057,\n",
       "        -0.5547538 , -0.56871176, -0.22208104,  0.27206588,  0.107884  ,\n",
       "        -0.7332815 , -0.2949816 ,  0.20062119,  0.10180911, -0.06620202,\n",
       "         0.38387543, -0.15781254,  0.55550176, -0.28727973, -0.01109971,\n",
       "         0.09964542, -0.39720768,  0.20111877, -0.00377833, -0.54732937,\n",
       "        -0.00829745,  0.3946709 , -0.15498933,  0.31865108,  0.29663998,\n",
       "         0.6917501 , -0.73634225, -0.315122  , -0.5227836 , -0.28497106,\n",
       "        -0.44812906, -0.35964444,  0.46308684, -0.28182372,  0.56264746,\n",
       "        -0.04872977]], dtype=float32)], dtype=object)"
      ]
     },
     "execution_count": 62,
     "metadata": {},
     "output_type": "execute_result"
    }
   ],
   "source": [
    "import pandas as pd\n",
    "dft=df_slice['vec']\n",
    "dft.values"
   ]
  },
  {
   "cell_type": "code",
   "execution_count": 63,
   "metadata": {},
   "outputs": [],
   "source": [
    "X_w= np.concatenate(df_slice['vec'].values, axis = 0)"
   ]
  },
  {
   "cell_type": "code",
   "execution_count": null,
   "metadata": {},
   "outputs": [],
   "source": []
  },
  {
   "cell_type": "code",
   "execution_count": 64,
   "metadata": {},
   "outputs": [
    {
     "name": "stdout",
     "output_type": "stream",
     "text": [
      "SGD  --->  0.5455555555555556\n",
      "LGR  --->  0.5455555555555556\n"
     ]
    },
    {
     "name": "stderr",
     "output_type": "stream",
     "text": [
      "C:\\Users\\Win10\\anaconda3\\lib\\site-packages\\sklearn\\linear_model\\_logistic.py:940: ConvergenceWarning: lbfgs failed to converge (status=1):\n",
      "STOP: TOTAL NO. of ITERATIONS REACHED LIMIT.\n",
      "\n",
      "Increase the number of iterations (max_iter) or scale the data as shown in:\n",
      "    https://scikit-learn.org/stable/modules/preprocessing.html\n",
      "Please also refer to the documentation for alternative solver options:\n",
      "    https://scikit-learn.org/stable/modules/linear_model.html#logistic-regression\n",
      "  extra_warning_msg=_LOGISTIC_SOLVER_CONVERGENCE_MSG)\n",
      "C:\\Users\\Win10\\anaconda3\\lib\\site-packages\\sklearn\\linear_model\\_logistic.py:940: ConvergenceWarning: lbfgs failed to converge (status=1):\n",
      "STOP: TOTAL NO. of ITERATIONS REACHED LIMIT.\n",
      "\n",
      "Increase the number of iterations (max_iter) or scale the data as shown in:\n",
      "    https://scikit-learn.org/stable/modules/preprocessing.html\n",
      "Please also refer to the documentation for alternative solver options:\n",
      "    https://scikit-learn.org/stable/modules/linear_model.html#logistic-regression\n",
      "  extra_warning_msg=_LOGISTIC_SOLVER_CONVERGENCE_MSG)\n"
     ]
    },
    {
     "name": "stdout",
     "output_type": "stream",
     "text": [
      "LGR-CV  --->  0.5322222222222223\n",
      "SVM  --->  0.5433333333333333\n",
      "RFC  --->  0.54\n",
      "KNN  --->  0.44333333333333336\n",
      "DTC  --->  0.5216666666666666\n"
     ]
    }
   ],
   "source": [
    "classify(pd.DataFrame(X_w), y)"
   ]
  },
  {
   "cell_type": "code",
   "execution_count": 65,
   "metadata": {},
   "outputs": [
    {
     "data": {
      "text/html": [
       "<div>\n",
       "<style scoped>\n",
       "    .dataframe tbody tr th:only-of-type {\n",
       "        vertical-align: middle;\n",
       "    }\n",
       "\n",
       "    .dataframe tbody tr th {\n",
       "        vertical-align: top;\n",
       "    }\n",
       "\n",
       "    .dataframe thead th {\n",
       "        text-align: right;\n",
       "    }\n",
       "</style>\n",
       "<table border=\"1\" class=\"dataframe\">\n",
       "  <thead>\n",
       "    <tr style=\"text-align: right;\">\n",
       "      <th></th>\n",
       "      <th>rating</th>\n",
       "      <th>review</th>\n",
       "      <th>vec</th>\n",
       "    </tr>\n",
       "  </thead>\n",
       "  <tbody>\n",
       "    <tr>\n",
       "      <th>2</th>\n",
       "      <td>5.0</td>\n",
       "      <td>spend summer holiday summer 2014 2015 husband ...</td>\n",
       "      <td>[[0.5998659, 0.34818113, 0.29399577, -0.045152...</td>\n",
       "    </tr>\n",
       "    <tr>\n",
       "      <th>3</th>\n",
       "      <td>5.0</td>\n",
       "      <td>visit baltic husband bike riding think wrong c...</td>\n",
       "      <td>[[0.7671907, 0.20602167, 0.30916652, -0.041060...</td>\n",
       "    </tr>\n",
       "    <tr>\n",
       "      <th>4</th>\n",
       "      <td>5.0</td>\n",
       "      <td>travel number achieve excellent ratio excellen...</td>\n",
       "      <td>[[0.65939033, 0.3046454, 0.034545872, -0.06377...</td>\n",
       "    </tr>\n",
       "    <tr>\n",
       "      <th>5</th>\n",
       "      <td>4.0</td>\n",
       "      <td>decide family holiday destination see rank fam...</td>\n",
       "      <td>[[0.9135717, 0.4914757, 0.13217962, -0.0413343...</td>\n",
       "    </tr>\n",
       "    <tr>\n",
       "      <th>6</th>\n",
       "      <td>4.0</td>\n",
       "      <td>customer experience wonderful family pretty si...</td>\n",
       "      <td>[[0.8239134, 0.30096883, 0.04313865, -0.032210...</td>\n",
       "    </tr>\n",
       "  </tbody>\n",
       "</table>\n",
       "</div>"
      ],
      "text/plain": [
       "  rating                                             review  \\\n",
       "2    5.0  spend summer holiday summer 2014 2015 husband ...   \n",
       "3    5.0  visit baltic husband bike riding think wrong c...   \n",
       "4    5.0  travel number achieve excellent ratio excellen...   \n",
       "5    4.0  decide family holiday destination see rank fam...   \n",
       "6    4.0  customer experience wonderful family pretty si...   \n",
       "\n",
       "                                                 vec  \n",
       "2  [[0.5998659, 0.34818113, 0.29399577, -0.045152...  \n",
       "3  [[0.7671907, 0.20602167, 0.30916652, -0.041060...  \n",
       "4  [[0.65939033, 0.3046454, 0.034545872, -0.06377...  \n",
       "5  [[0.9135717, 0.4914757, 0.13217962, -0.0413343...  \n",
       "6  [[0.8239134, 0.30096883, 0.04313865, -0.032210...  "
      ]
     },
     "execution_count": 65,
     "metadata": {},
     "output_type": "execute_result"
    }
   ],
   "source": [
    "df.head()"
   ]
  },
  {
   "cell_type": "code",
   "execution_count": 66,
   "metadata": {},
   "outputs": [],
   "source": [
    "from sklearn.model_selection import cross_val_score"
   ]
  },
  {
   "cell_type": "code",
   "execution_count": 67,
   "metadata": {},
   "outputs": [
    {
     "data": {
      "text/html": [
       "<div>\n",
       "<style scoped>\n",
       "    .dataframe tbody tr th:only-of-type {\n",
       "        vertical-align: middle;\n",
       "    }\n",
       "\n",
       "    .dataframe tbody tr th {\n",
       "        vertical-align: top;\n",
       "    }\n",
       "\n",
       "    .dataframe thead th {\n",
       "        text-align: right;\n",
       "    }\n",
       "</style>\n",
       "<table border=\"1\" class=\"dataframe\">\n",
       "  <thead>\n",
       "    <tr style=\"text-align: right;\">\n",
       "      <th></th>\n",
       "      <th>rating</th>\n",
       "      <th>review</th>\n",
       "      <th>vec</th>\n",
       "    </tr>\n",
       "  </thead>\n",
       "  <tbody>\n",
       "    <tr>\n",
       "      <th>2</th>\n",
       "      <td>5.0</td>\n",
       "      <td>spend summer holiday summer 2014 2015 husband ...</td>\n",
       "      <td>[[0.5998659, 0.34818113, 0.29399577, -0.045152...</td>\n",
       "    </tr>\n",
       "    <tr>\n",
       "      <th>3</th>\n",
       "      <td>5.0</td>\n",
       "      <td>visit baltic husband bike riding think wrong c...</td>\n",
       "      <td>[[0.7671907, 0.20602167, 0.30916652, -0.041060...</td>\n",
       "    </tr>\n",
       "    <tr>\n",
       "      <th>4</th>\n",
       "      <td>5.0</td>\n",
       "      <td>travel number achieve excellent ratio excellen...</td>\n",
       "      <td>[[0.65939033, 0.3046454, 0.034545872, -0.06377...</td>\n",
       "    </tr>\n",
       "    <tr>\n",
       "      <th>5</th>\n",
       "      <td>4.0</td>\n",
       "      <td>decide family holiday destination see rank fam...</td>\n",
       "      <td>[[0.9135717, 0.4914757, 0.13217962, -0.0413343...</td>\n",
       "    </tr>\n",
       "    <tr>\n",
       "      <th>6</th>\n",
       "      <td>4.0</td>\n",
       "      <td>customer experience wonderful family pretty si...</td>\n",
       "      <td>[[0.8239134, 0.30096883, 0.04313865, -0.032210...</td>\n",
       "    </tr>\n",
       "  </tbody>\n",
       "</table>\n",
       "</div>"
      ],
      "text/plain": [
       "  rating                                             review  \\\n",
       "2    5.0  spend summer holiday summer 2014 2015 husband ...   \n",
       "3    5.0  visit baltic husband bike riding think wrong c...   \n",
       "4    5.0  travel number achieve excellent ratio excellen...   \n",
       "5    4.0  decide family holiday destination see rank fam...   \n",
       "6    4.0  customer experience wonderful family pretty si...   \n",
       "\n",
       "                                                 vec  \n",
       "2  [[0.5998659, 0.34818113, 0.29399577, -0.045152...  \n",
       "3  [[0.7671907, 0.20602167, 0.30916652, -0.041060...  \n",
       "4  [[0.65939033, 0.3046454, 0.034545872, -0.06377...  \n",
       "5  [[0.9135717, 0.4914757, 0.13217962, -0.0413343...  \n",
       "6  [[0.8239134, 0.30096883, 0.04313865, -0.032210...  "
      ]
     },
     "execution_count": 67,
     "metadata": {},
     "output_type": "execute_result"
    }
   ],
   "source": [
    "df.head()"
   ]
  },
  {
   "cell_type": "code",
   "execution_count": 68,
   "metadata": {},
   "outputs": [],
   "source": [
    "def KFoldCall(X,y):\n",
    "    for key in clf.keys(): \n",
    "        data=cross_val_score(clf[key],X, y,cv=3)\n",
    "        print(str(key)+\" ---> \"+str(np.average(data)))"
   ]
  },
  {
   "cell_type": "code",
   "execution_count": 69,
   "metadata": {
    "scrolled": false
   },
   "outputs": [
    {
     "name": "stdout",
     "output_type": "stream",
     "text": [
      "SGD ---> 0.49133333333333334\n",
      "LGR ---> 0.5215\n",
      "LGR-CV ---> 0.5625\n",
      "SVM ---> 0.4913333333333334\n",
      "RFC ---> 0.5644999999999999\n",
      "KNN ---> 0.5015\n",
      "DTC ---> 0.5371666666666667\n"
     ]
    }
   ],
   "source": [
    "KFoldCall(dfr_bow,y)"
   ]
  },
  {
   "cell_type": "code",
   "execution_count": 70,
   "metadata": {},
   "outputs": [
    {
     "name": "stdout",
     "output_type": "stream",
     "text": [
      "SGD ---> 0.5328333333333334\n",
      "LGR ---> 0.5548333333333333\n",
      "LGR-CV ---> 0.5565000000000001\n",
      "SVM ---> 0.5368333333333334\n",
      "RFC ---> 0.5636666666666666\n",
      "KNN ---> 0.4633333333333333\n",
      "DTC ---> 0.5363333333333333\n"
     ]
    }
   ],
   "source": [
    "KFoldCall(pd.DataFrame(X.toarray()),y)"
   ]
  },
  {
   "cell_type": "code",
   "execution_count": 71,
   "metadata": {},
   "outputs": [
    {
     "name": "stdout",
     "output_type": "stream",
     "text": [
      "SGD ---> 0.4871666666666667\n",
      "LGR ---> 0.5338333333333334\n",
      "LGR-CV ---> 0.5323333333333333\n",
      "SVM ---> 0.5365000000000001\n",
      "RFC ---> 0.5328333333333334\n",
      "KNN ---> 0.4375\n",
      "DTC ---> 0.5311666666666667\n"
     ]
    }
   ],
   "source": [
    "KFoldCall(pd.DataFrame(X_w), y)"
   ]
  },
  {
   "cell_type": "markdown",
   "metadata": {},
   "source": [
    "# DATA VISUALIZATION"
   ]
  },
  {
   "cell_type": "markdown",
   "metadata": {},
   "source": [
    "## Rating Prediction analysis"
   ]
  },
  {
   "cell_type": "markdown",
   "metadata": {},
   "source": []
  },
  {
   "cell_type": "code",
   "execution_count": 72,
   "metadata": {},
   "outputs": [],
   "source": [
    "import matplotlib.pyplot as plt\n",
    "import json\n",
    "from collections import OrderedDict\n",
    "def PlotBarG(X, y,z):\n",
    "    scaler = MinMaxScaler(feature_range=(0, 1))\n",
    "    X = scaler.fit_transform(X)\n",
    "    \n",
    "    X_train, X_test, y_train, y_test = train_test_split(X, y, test_size = 0.3, random_state = 42, stratify = y)\n",
    "    \n",
    "    for key in clf.keys():\n",
    "        clf[key].fit(X_train, y_train)\n",
    "        y_pred = clf[key].predict(X_test)\n",
    "\n",
    "        attributes = y_pred.tolist()\n",
    "        attributes1 = y_test.tolist()\n",
    "\n",
    "        predictions_dict ={'1.0':0,'2.0':0,'3.0':0,'4.0':0,'5.0':0}\n",
    "        actualrating_dict ={'1.0':0,'2.0':0,'3.0':0,'4.0':0,'5.0':0}\n",
    "        \n",
    "        for attr in attributes:\n",
    "            if attr in predictions_dict.keys():\n",
    "                predictions_dict[attr] += 1\n",
    "            else:\n",
    "                predictions_dict[attr] = 1\n",
    "        \n",
    "        for attr in attributes1:\n",
    "            if attr in actualrating_dict.keys():\n",
    "                actualrating_dict[attr] += 1\n",
    "            else:\n",
    "                actualrating_dict[attr] = 1\n",
    "\n",
    "        X_axis = np.arange(len(predictions_dict.keys()))\n",
    "        plt.xticks(X_axis,predictions_dict.keys())\n",
    "        plt.xlabel(\"Ratings\")\n",
    "        plt.ylabel(\"Count\")\n",
    "        plt.title(Des[key]+\" (\"+str(z)+\")\")\n",
    "        plt.bar(X_axis - 0.2,predictions_dict.values(), 0.4, label = 'Predicted values')\n",
    "        plt.bar(X_axis + 0.2, actualrating_dict.values(), 0.4, label = 'Actual values')\n",
    "        plt.legend()\n",
    "        plt.show()"
   ]
  },
  {
   "cell_type": "code",
   "execution_count": 73,
   "metadata": {},
   "outputs": [],
   "source": [
    "import matplotlib.pyplot as plt\n",
    "import json\n",
    "from collections import OrderedDict\n",
    "def Acurracy(X, y, z):\n",
    "    scaler = MinMaxScaler(feature_range=(0, 1))\n",
    "    X = scaler.fit_transform(X)\n",
    "    \n",
    "    X_train, X_test, y_train, y_test = train_test_split(X, y, test_size = 0.3, random_state = 42, stratify = y)\n",
    "    Accu={}\n",
    "    for key in clf.keys():\n",
    "        clf[key].fit(X_train, y_train)\n",
    "        y_pred = clf[key].predict(X_test)\n",
    "        ac = accuracy_score(y_test, y_pred)\n",
    "        Accu[key]=ac*100\n",
    "    plt.ylim(0,100)\n",
    "    plt.xlabel(\"Models\")\n",
    "    plt.ylabel(\"Acuuracy\")\n",
    "    plt.title(\"Accuracy of different Models using \"+str(z))\n",
    "    plt.bar(sorted(Accu.keys()), Accu.values())\n",
    "    i = 0\n",
    "    data = pd.DataFrame({'Format':['Test','ODI','T20I','IPL'],\n",
    "                     'Matches': [90, 350, 98, 204],\n",
    "                     'Runs':[4876,10773, 1617, 4632]\n",
    "                    })\n",
    "    i+=1\n",
    "    plt.show()"
   ]
  },
  {
   "cell_type": "code",
   "execution_count": 74,
   "metadata": {},
   "outputs": [],
   "source": [
    "import matplotlib.pyplot as plt\n",
    "def Histogram(X, y, z):\n",
    "    scaler = MinMaxScaler(feature_range=(0, 1))\n",
    "    X = scaler.fit_transform(X)\n",
    "    \n",
    "    X_train, X_test, y_train, y_test = train_test_split(X, y, test_size = 0.3, random_state = 42, stratify = y)\n",
    "    Accu={}\n",
    "    for key in clf.keys():\n",
    "        clf[key].fit(X_train, y_train)\n",
    "        y_pred = clf[key].predict(X_test)\n",
    "        ac = accuracy_score(y_test, y_pred)\n",
    "        Accu[key]=ac\n",
    "        labels = ['1.0','2.0','3.0','4.0','5.0']\n",
    "        attributes =y_pred.tolist()\n",
    "        scores = np.random.random(100)\n",
    "        \n",
    "        d = {key:[] for key in labels}\n",
    "        \n",
    "        for attribute, score in zip(attributes, scores):\n",
    "            d[attribute].append(score)\n",
    "        \n",
    "        for attribute in d.keys():\n",
    "            plt.hist(d[attribute], alpha=0.6, label=attribute)\n",
    "\n",
    "        plt.xlabel('Prediction value')\n",
    "        plt.ylabel('Count')\n",
    "        plt.title(Des[key])\n",
    "        plt.legend()\n",
    "        plt.show()\n"
   ]
  },
  {
   "cell_type": "markdown",
   "metadata": {},
   "source": [
    "## Bag of word"
   ]
  },
  {
   "cell_type": "markdown",
   "metadata": {},
   "source": [
    "### Bar graph"
   ]
  },
  {
   "cell_type": "code",
   "execution_count": 75,
   "metadata": {},
   "outputs": [
    {
     "data": {
      "image/png": "[encoded data removed]",
      "text/plain": [
       "<Figure size 432x288 with 1 Axes>"
      ]
     },
     "metadata": {
      "needs_background": "light"
     },
     "output_type": "display_data"
    },
    {
     "data": {
      "image/png": "[encoded data removed]",
      "text/plain": [
       "<Figure size 432x288 with 1 Axes>"
      ]
     },
     "metadata": {
      "needs_background": "light"
     },
     "output_type": "display_data"
    },
    {
     "data": {
      "image/png": "[encoded data removed]",
      "text/plain": [
       "<Figure size 432x288 with 1 Axes>"
      ]
     },
     "metadata": {
      "needs_background": "light"
     },
     "output_type": "display_data"
    },
    {
     "data": {
      "image/png": "[encoded data removed]",
      "text/plain": [
       "<Figure size 432x288 with 1 Axes>"
      ]
     },
     "metadata": {
      "needs_background": "light"
     },
     "output_type": "display_data"
    },
    {
     "data": {
      "image/png": "[encoded data removed]",
      "text/plain": [
       "<Figure size 432x288 with 1 Axes>"
      ]
     },
     "metadata": {
      "needs_background": "light"
     },
     "output_type": "display_data"
    },
    {
     "data": {
      "image/png": "[encoded data removed]",
      "text/plain": [
       "<Figure size 432x288 with 1 Axes>"
      ]
     },
     "metadata": {
      "needs_background": "light"
     },
     "output_type": "display_data"
    },
    {
     "data": {
      "image/png": "[encoded data removed]",
      "text/plain": [
       "<Figure size 432x288 with 1 Axes>"
      ]
     },
     "metadata": {
      "needs_background": "light"
     },
     "output_type": "display_data"
    }
   ],
   "source": [
    "PlotBarG(dfr_bow,y,\"Bow\")"
   ]
  },
  {
   "cell_type": "markdown",
   "metadata": {},
   "source": [
    "### Accuracy for Models"
   ]
  },
  {
   "cell_type": "code",
   "execution_count": 76,
   "metadata": {},
   "outputs": [
    {
     "data": {
      "image/png": "[encoded data removed]",
      "text/plain": [
       "<Figure size 432x288 with 1 Axes>"
      ]
     },
     "metadata": {
      "needs_background": "light"
     },
     "output_type": "display_data"
    }
   ],
   "source": [
    "Acurracy(dfr_bow,y,\"BoW\")"
   ]
  },
  {
   "cell_type": "markdown",
   "metadata": {},
   "source": [
    "### Histogram for Prediction value"
   ]
  },
  {
   "cell_type": "code",
   "execution_count": 77,
   "metadata": {},
   "outputs": [],
   "source": [
    "#Histogram(dfr_bow,y,\"Bag Of Word\")"
   ]
  },
  {
   "cell_type": "markdown",
   "metadata": {},
   "source": [
    "# TF-IDF"
   ]
  },
  {
   "cell_type": "markdown",
   "metadata": {},
   "source": [
    "### Rating Prediction bar graph "
   ]
  },
  {
   "cell_type": "code",
   "execution_count": 78,
   "metadata": {},
   "outputs": [
    {
     "data": {
      "image/png": "[encoded data removed]",
      "text/plain": [
       "<Figure size 432x288 with 1 Axes>"
      ]
     },
     "metadata": {
      "needs_background": "light"
     },
     "output_type": "display_data"
    },
    {
     "data": {
      "image/png": "[encoded data removed]",
      "text/plain": [
       "<Figure size 432x288 with 1 Axes>"
      ]
     },
     "metadata": {
      "needs_background": "light"
     },
     "output_type": "display_data"
    },
    {
     "data": {
      "image/png": "[encoded data removed]",
      "text/plain": [
       "<Figure size 432x288 with 1 Axes>"
      ]
     },
     "metadata": {
      "needs_background": "light"
     },
     "output_type": "display_data"
    },
    {
     "data": {
      "image/png": "[encoded data removed]",
      "text/plain": [
       "<Figure size 432x288 with 1 Axes>"
      ]
     },
     "metadata": {
      "needs_background": "light"
     },
     "output_type": "display_data"
    },
    {
     "data": {
      "image/png": "[encoded data removed]",
      "text/plain": [
       "<Figure size 432x288 with 1 Axes>"
      ]
     },
     "metadata": {
      "needs_background": "light"
     },
     "output_type": "display_data"
    },
    {
     "data": {
      "image/png": "[encoded data removed]",
      "text/plain": [
       "<Figure size 432x288 with 1 Axes>"
      ]
     },
     "metadata": {
      "needs_background": "light"
     },
     "output_type": "display_data"
    },
    {
     "data": {
      "image/png": "[encoded data removed]",
      "text/plain": [
       "<Figure size 432x288 with 1 Axes>"
      ]
     },
     "metadata": {
      "needs_background": "light"
     },
     "output_type": "display_data"
    }
   ],
   "source": [
    "PlotBarG(pd.DataFrame(X.toarray()), y,\"TF-IDF\")"
   ]
  },
  {
   "cell_type": "markdown",
   "metadata": {},
   "source": [
    "### Acurracy bar graph"
   ]
  },
  {
   "cell_type": "code",
   "execution_count": 79,
   "metadata": {},
   "outputs": [
    {
     "data": {
      "image/png": "[encoded data removed]",
      "text/plain": [
       "<Figure size 432x288 with 1 Axes>"
      ]
     },
     "metadata": {
      "needs_background": "light"
     },
     "output_type": "display_data"
    }
   ],
   "source": [
    "Acurracy(pd.DataFrame(X.toarray()), y,\"Tf-IDF\")"
   ]
  },
  {
   "cell_type": "markdown",
   "metadata": {},
   "source": [
    "### Histogram for Rating Predictions for Different Graph"
   ]
  },
  {
   "cell_type": "code",
   "execution_count": 80,
   "metadata": {},
   "outputs": [],
   "source": [
    "#Histogram(pd.DataFrame(X.toarray()), y,\"Tf-IDF\")"
   ]
  },
  {
   "cell_type": "markdown",
   "metadata": {},
   "source": [
    "# Word2Vec"
   ]
  },
  {
   "cell_type": "markdown",
   "metadata": {},
   "source": [
    "### Rating Prediction bar graph "
   ]
  },
  {
   "cell_type": "code",
   "execution_count": 81,
   "metadata": {},
   "outputs": [
    {
     "data": {
      "image/png": "[encoded data removed]",
      "text/plain": [
       "<Figure size 432x288 with 1 Axes>"
      ]
     },
     "metadata": {
      "needs_background": "light"
     },
     "output_type": "display_data"
    },
    {
     "data": {
      "image/png": "[encoded data removed]",
      "text/plain": [
       "<Figure size 432x288 with 1 Axes>"
      ]
     },
     "metadata": {
      "needs_background": "light"
     },
     "output_type": "display_data"
    },
    {
     "name": "stderr",
     "output_type": "stream",
     "text": [
      "C:\\Users\\Win10\\anaconda3\\lib\\site-packages\\sklearn\\linear_model\\_logistic.py:940: ConvergenceWarning: lbfgs failed to converge (status=1):\n",
      "STOP: TOTAL NO. of ITERATIONS REACHED LIMIT.\n",
      "\n",
      "Increase the number of iterations (max_iter) or scale the data as shown in:\n",
      "    https://scikit-learn.org/stable/modules/preprocessing.html\n",
      "Please also refer to the documentation for alternative solver options:\n",
      "    https://scikit-learn.org/stable/modules/linear_model.html#logistic-regression\n",
      "  extra_warning_msg=_LOGISTIC_SOLVER_CONVERGENCE_MSG)\n",
      "C:\\Users\\Win10\\anaconda3\\lib\\site-packages\\sklearn\\linear_model\\_logistic.py:940: ConvergenceWarning: lbfgs failed to converge (status=1):\n",
      "STOP: TOTAL NO. of ITERATIONS REACHED LIMIT.\n",
      "\n",
      "Increase the number of iterations (max_iter) or scale the data as shown in:\n",
      "    https://scikit-learn.org/stable/modules/preprocessing.html\n",
      "Please also refer to the documentation for alternative solver options:\n",
      "    https://scikit-learn.org/stable/modules/linear_model.html#logistic-regression\n",
      "  extra_warning_msg=_LOGISTIC_SOLVER_CONVERGENCE_MSG)\n"
     ]
    },
    {
     "data": {
      "image/png": "[encoded data removed]",
      "text/plain": [
       "<Figure size 432x288 with 1 Axes>"
      ]
     },
     "metadata": {
      "needs_background": "light"
     },
     "output_type": "display_data"
    },
    {
     "data": {
      "image/png": "[encoded data removed]",
      "text/plain": [
       "<Figure size 432x288 with 1 Axes>"
      ]
     },
     "metadata": {
      "needs_background": "light"
     },
     "output_type": "display_data"
    },
    {
     "data": {
      "image/png": "[encoded data removed]",
      "text/plain": [
       "<Figure size 432x288 with 1 Axes>"
      ]
     },
     "metadata": {
      "needs_background": "light"
     },
     "output_type": "display_data"
    },
    {
     "data": {
      "image/png": "[encoded data removed]",
      "text/plain": [
       "<Figure size 432x288 with 1 Axes>"
      ]
     },
     "metadata": {
      "needs_background": "light"
     },
     "output_type": "display_data"
    },
    {
     "data": {
      "image/png": "[encoded data removed]",
      "text/plain": [
       "<Figure size 432x288 with 1 Axes>"
      ]
     },
     "metadata": {
      "needs_background": "light"
     },
     "output_type": "display_data"
    }
   ],
   "source": [
    "PlotBarG(pd.DataFrame(X_w), y,\"Word2Vec\")"
   ]
  },
  {
   "cell_type": "markdown",
   "metadata": {},
   "source": [
    "### Acurracy bar graph"
   ]
  },
  {
   "cell_type": "code",
   "execution_count": 82,
   "metadata": {},
   "outputs": [
    {
     "name": "stderr",
     "output_type": "stream",
     "text": [
      "C:\\Users\\Win10\\anaconda3\\lib\\site-packages\\sklearn\\linear_model\\_logistic.py:940: ConvergenceWarning: lbfgs failed to converge (status=1):\n",
      "STOP: TOTAL NO. of ITERATIONS REACHED LIMIT.\n",
      "\n",
      "Increase the number of iterations (max_iter) or scale the data as shown in:\n",
      "    https://scikit-learn.org/stable/modules/preprocessing.html\n",
      "Please also refer to the documentation for alternative solver options:\n",
      "    https://scikit-learn.org/stable/modules/linear_model.html#logistic-regression\n",
      "  extra_warning_msg=_LOGISTIC_SOLVER_CONVERGENCE_MSG)\n",
      "C:\\Users\\Win10\\anaconda3\\lib\\site-packages\\sklearn\\linear_model\\_logistic.py:940: ConvergenceWarning: lbfgs failed to converge (status=1):\n",
      "STOP: TOTAL NO. of ITERATIONS REACHED LIMIT.\n",
      "\n",
      "Increase the number of iterations (max_iter) or scale the data as shown in:\n",
      "    https://scikit-learn.org/stable/modules/preprocessing.html\n",
      "Please also refer to the documentation for alternative solver options:\n",
      "    https://scikit-learn.org/stable/modules/linear_model.html#logistic-regression\n",
      "  extra_warning_msg=_LOGISTIC_SOLVER_CONVERGENCE_MSG)\n"
     ]
    },
    {
     "data": {
      "image/png": "[encoded data removed]",
      "text/plain": [
       "<Figure size 432x288 with 1 Axes>"
      ]
     },
     "metadata": {
      "needs_background": "light"
     },
     "output_type": "display_data"
    }
   ],
   "source": [
    "Acurracy(pd.DataFrame(X_w), y,\"Word2Vec\")"
   ]
  },
  {
   "cell_type": "markdown",
   "metadata": {},
   "source": [
    "### Histogram for Rating Predictions for Different Graph"
   ]
  },
  {
   "cell_type": "code",
   "execution_count": 83,
   "metadata": {},
   "outputs": [],
   "source": [
    "#Histogram(pd.DataFrame(X_w), y, \"Word2Vec\")"
   ]
  },
  {
   "cell_type": "code",
   "execution_count": 84,
   "metadata": {},
   "outputs": [
    {
     "data": {
      "image/png": "[encoded data removed]",
      "text/plain": [
       "<Figure size 360x288 with 1 Axes>"
      ]
     },
     "metadata": {
      "needs_background": "light"
     },
     "output_type": "display_data"
    },
    {
     "data": {
      "image/png": "[encoded data removed]",
      "text/plain": [
       "<Figure size 360x288 with 1 Axes>"
      ]
     },
     "metadata": {
      "needs_background": "light"
     },
     "output_type": "display_data"
    },
    {
     "name": "stderr",
     "output_type": "stream",
     "text": [
      "C:\\Users\\Win10\\anaconda3\\lib\\site-packages\\sklearn\\linear_model\\_logistic.py:940: ConvergenceWarning: lbfgs failed to converge (status=1):\n",
      "STOP: TOTAL NO. of ITERATIONS REACHED LIMIT.\n",
      "\n",
      "Increase the number of iterations (max_iter) or scale the data as shown in:\n",
      "    https://scikit-learn.org/stable/modules/preprocessing.html\n",
      "Please also refer to the documentation for alternative solver options:\n",
      "    https://scikit-learn.org/stable/modules/linear_model.html#logistic-regression\n",
      "  extra_warning_msg=_LOGISTIC_SOLVER_CONVERGENCE_MSG)\n",
      "C:\\Users\\Win10\\anaconda3\\lib\\site-packages\\sklearn\\linear_model\\_logistic.py:940: ConvergenceWarning: lbfgs failed to converge (status=1):\n",
      "STOP: TOTAL NO. of ITERATIONS REACHED LIMIT.\n",
      "\n",
      "Increase the number of iterations (max_iter) or scale the data as shown in:\n",
      "    https://scikit-learn.org/stable/modules/preprocessing.html\n",
      "Please also refer to the documentation for alternative solver options:\n",
      "    https://scikit-learn.org/stable/modules/linear_model.html#logistic-regression\n",
      "  extra_warning_msg=_LOGISTIC_SOLVER_CONVERGENCE_MSG)\n"
     ]
    },
    {
     "data": {
      "image/png": "[encoded data removed]",
      "text/plain": [
       "<Figure size 360x288 with 1 Axes>"
      ]
     },
     "metadata": {
      "needs_background": "light"
     },
     "output_type": "display_data"
    },
    {
     "data": {
      "image/png": "[encoded data removed]",
      "text/plain": [
       "<Figure size 360x288 with 1 Axes>"
      ]
     },
     "metadata": {
      "needs_background": "light"
     },
     "output_type": "display_data"
    },
    {
     "data": {
      "image/png": "[encoded data removed]",
      "text/plain": [
       "<Figure size 360x288 with 1 Axes>"
      ]
     },
     "metadata": {
      "needs_background": "light"
     },
     "output_type": "display_data"
    },
    {
     "data": {
      "image/png": "[encoded data removed]",
      "text/plain": [
       "<Figure size 360x288 with 1 Axes>"
      ]
     },
     "metadata": {
      "needs_background": "light"
     },
     "output_type": "display_data"
    },
    {
     "data": {
      "image/png": "[encoded data removed]",
      "text/plain": [
       "<Figure size 360x288 with 1 Axes>"
      ]
     },
     "metadata": {
      "needs_background": "light"
     },
     "output_type": "display_data"
    }
   ],
   "source": [
    "for key in clf.keys():\n",
    "    l=[]\n",
    "    scaler = MinMaxScaler(feature_range=(0, 1))\n",
    "    g1 = scaler.fit_transform(dfr_bow)\n",
    "    X_train, X_test, y_train, y_test = train_test_split(g1, y, test_size = 0.2, random_state = 42, stratify = y)\n",
    "    clf[key].fit(X_train, y_train)\n",
    "    y_pred = clf[key].predict(X_test)\n",
    "    l.append(100*accuracy_score(y_test, y_pred))\n",
    "    scaler = MinMaxScaler(feature_range=(0, 1))\n",
    "    g1 = scaler.fit_transform(pd.DataFrame(X.toarray()))\n",
    "    X_train, X_test, y_train, y_test = train_test_split(g1, y, test_size = 0.2, random_state = 42, stratify = y)\n",
    "    clf[key].fit(X_train, y_train)\n",
    "    y_pred = clf[key].predict(X_test)\n",
    "    l.append(100*accuracy_score(y_test, y_pred))\n",
    "    g1 = scaler.fit_transform(pd.DataFrame(X_w))\n",
    "    X_train, X_test, y_train, y_test = train_test_split(g1, y, test_size = 0.2, random_state = 42, stratify = y)\n",
    "    clf[key].fit(X_train, y_train)\n",
    "    y_pred = clf[key].predict(X_test)\n",
    "    l.append(100*accuracy_score(y_test, y_pred))\n",
    "    fig = plt.figure(figsize = (5, 4))\n",
    "    mod=['BoW','TF-IDF','Word2Vec']\n",
    "    percentage=[10,20,30,40,50,60,70,80,90,100] \n",
    "    plt.bar(mod,l, color ='blue',width = 0.3)\n",
    "    plt.ylim(0,100)\n",
    "    plt.xlabel(\"Features\")\n",
    "    plt.ylabel(\"Accuracy\")\n",
    "    plt.title(Des[key])\n",
    "    plt.show()"
   ]
  },
  {
   "cell_type": "code",
   "execution_count": 85,
   "metadata": {},
   "outputs": [
    {
     "data": {
      "text/plain": [
       "2    5.0\n",
       "3    5.0\n",
       "4    5.0\n",
       "5    4.0\n",
       "6    4.0\n",
       "Name: rating, dtype: object"
      ]
     },
     "execution_count": 85,
     "metadata": {},
     "output_type": "execute_result"
    }
   ],
   "source": [
    "y.head()"
   ]
  },
  {
   "cell_type": "code",
   "execution_count": 86,
   "metadata": {},
   "outputs": [
    {
     "data": {
      "text/plain": [
       "array(['5.0', '4.0', '3.0', '1.0', '2.0'], dtype=object)"
      ]
     },
     "execution_count": 86,
     "metadata": {},
     "output_type": "execute_result"
    }
   ],
   "source": [
    "y.unique()"
   ]
  },
  {
   "cell_type": "code",
   "execution_count": 87,
   "metadata": {},
   "outputs": [
    {
     "data": {
      "text/plain": [
       "['5.0',\n",
       " '5.0',\n",
       " '5.0',\n",
       " '4.0',\n",
       " '4.0',\n",
       " '3.0',\n",
       " '4.0',\n",
       " '5.0',\n",
       " '4.0',\n",
       " '4.0',\n",
       " '5.0',\n",
       " '5.0',\n",
       " '3.0',\n",
       " '5.0',\n",
       " '4.0',\n",
       " '4.0',\n",
       " '5.0',\n",
       " '5.0',\n",
       " '5.0',\n",
       " '5.0',\n",
       " '5.0',\n",
       " '5.0',\n",
       " '5.0',\n",
       " '4.0',\n",
       " '5.0',\n",
       " '5.0',\n",
       " '4.0',\n",
       " '5.0',\n",
       " '4.0',\n",
       " '5.0',\n",
       " '5.0',\n",
       " '5.0',\n",
       " '4.0',\n",
       " '5.0',\n",
       " '5.0',\n",
       " '4.0',\n",
       " '5.0',\n",
       " '5.0',\n",
       " '5.0',\n",
       " '3.0',\n",
       " '5.0',\n",
       " '4.0',\n",
       " '5.0',\n",
       " '5.0',\n",
       " '5.0',\n",
       " '5.0',\n",
       " '5.0',\n",
       " '5.0',\n",
       " '5.0',\n",
       " '5.0',\n",
       " '5.0',\n",
       " '5.0',\n",
       " '5.0',\n",
       " '5.0',\n",
       " '5.0',\n",
       " '5.0',\n",
       " '3.0',\n",
       " '3.0',\n",
       " '5.0',\n",
       " '5.0',\n",
       " '4.0',\n",
       " '5.0',\n",
       " '4.0',\n",
       " '5.0',\n",
       " '4.0',\n",
       " '5.0',\n",
       " '3.0',\n",
       " '1.0',\n",
       " '4.0',\n",
       " '2.0',\n",
       " '3.0',\n",
       " '3.0',\n",
       " '3.0',\n",
       " '5.0',\n",
       " '4.0',\n",
       " '5.0',\n",
       " '4.0',\n",
       " '3.0',\n",
       " '3.0',\n",
       " '3.0',\n",
       " '2.0',\n",
       " '4.0',\n",
       " '4.0',\n",
       " '2.0',\n",
       " '4.0',\n",
       " '5.0',\n",
       " '4.0',\n",
       " '4.0',\n",
       " '4.0',\n",
       " '4.0',\n",
       " '4.0',\n",
       " '2.0',\n",
       " '4.0',\n",
       " '5.0',\n",
       " '4.0',\n",
       " '3.0',\n",
       " '4.0',\n",
       " '4.0',\n",
       " '5.0',\n",
       " '4.0',\n",
       " '5.0',\n",
       " '3.0',\n",
       " '2.0',\n",
       " '5.0',\n",
       " '5.0',\n",
       " '5.0',\n",
       " '5.0',\n",
       " '4.0',\n",
       " '5.0',\n",
       " '4.0',\n",
       " '1.0',\n",
       " '4.0',\n",
       " '5.0',\n",
       " '4.0',\n",
       " '4.0',\n",
       " '3.0',\n",
       " '3.0',\n",
       " '4.0',\n",
       " '3.0',\n",
       " '4.0',\n",
       " '3.0',\n",
       " '3.0',\n",
       " '5.0',\n",
       " '4.0',\n",
       " '3.0',\n",
       " '5.0',\n",
       " '3.0',\n",
       " '1.0',\n",
       " '4.0',\n",
       " '2.0',\n",
       " '5.0',\n",
       " '5.0',\n",
       " '5.0',\n",
       " '4.0',\n",
       " '4.0',\n",
       " '1.0',\n",
       " '4.0',\n",
       " '4.0',\n",
       " '4.0',\n",
       " '3.0',\n",
       " '5.0',\n",
       " '3.0',\n",
       " '5.0',\n",
       " '5.0',\n",
       " '5.0',\n",
       " '5.0',\n",
       " '4.0',\n",
       " '3.0',\n",
       " '5.0',\n",
       " '5.0',\n",
       " '1.0',\n",
       " '2.0',\n",
       " '4.0',\n",
       " '2.0',\n",
       " '4.0',\n",
       " '5.0',\n",
       " '4.0',\n",
       " '4.0',\n",
       " '5.0',\n",
       " '3.0',\n",
       " '4.0',\n",
       " '4.0',\n",
       " '3.0',\n",
       " '4.0',\n",
       " '4.0',\n",
       " '3.0',\n",
       " '3.0',\n",
       " '4.0',\n",
       " '5.0',\n",
       " '3.0',\n",
       " '4.0',\n",
       " '3.0',\n",
       " '4.0',\n",
       " '5.0',\n",
       " '5.0',\n",
       " '5.0',\n",
       " '4.0',\n",
       " '3.0',\n",
       " '3.0',\n",
       " '3.0',\n",
       " '4.0',\n",
       " '2.0',\n",
       " '5.0',\n",
       " '2.0',\n",
       " '3.0',\n",
       " '2.0',\n",
       " '2.0',\n",
       " '5.0',\n",
       " '4.0',\n",
       " '4.0',\n",
       " '2.0',\n",
       " '4.0',\n",
       " '5.0',\n",
       " '1.0',\n",
       " '4.0',\n",
       " '1.0',\n",
       " '1.0',\n",
       " '1.0',\n",
       " '3.0',\n",
       " '1.0',\n",
       " '1.0',\n",
       " '2.0',\n",
       " '3.0',\n",
       " '2.0',\n",
       " '2.0',\n",
       " '1.0',\n",
       " '2.0',\n",
       " '4.0',\n",
       " '4.0',\n",
       " '1.0',\n",
       " '1.0',\n",
       " '3.0',\n",
       " '1.0',\n",
       " '2.0',\n",
       " '1.0',\n",
       " '4.0',\n",
       " '4.0',\n",
       " '2.0',\n",
       " '3.0',\n",
       " '1.0',\n",
       " '1.0',\n",
       " '4.0',\n",
       " '3.0',\n",
       " '3.0',\n",
       " '4.0',\n",
       " '4.0',\n",
       " '3.0',\n",
       " '4.0',\n",
       " '5.0',\n",
       " '2.0',\n",
       " '3.0',\n",
       " '4.0',\n",
       " '4.0',\n",
       " '3.0',\n",
       " '5.0',\n",
       " '5.0',\n",
       " '3.0',\n",
       " '4.0',\n",
       " '2.0',\n",
       " '4.0',\n",
       " '4.0',\n",
       " '2.0',\n",
       " '3.0',\n",
       " '3.0',\n",
       " '4.0',\n",
       " '5.0',\n",
       " '5.0',\n",
       " '5.0',\n",
       " '1.0',\n",
       " '4.0',\n",
       " '3.0',\n",
       " '3.0',\n",
       " '1.0',\n",
       " '2.0',\n",
       " '2.0',\n",
       " '3.0',\n",
       " '2.0',\n",
       " '4.0',\n",
       " '2.0',\n",
       " '2.0',\n",
       " '3.0',\n",
       " '3.0',\n",
       " '4.0',\n",
       " '4.0',\n",
       " '4.0',\n",
       " '4.0',\n",
       " '4.0',\n",
       " '4.0',\n",
       " '4.0',\n",
       " '4.0',\n",
       " '1.0',\n",
       " '4.0',\n",
       " '1.0',\n",
       " '4.0',\n",
       " '4.0',\n",
       " '5.0',\n",
       " '4.0',\n",
       " '4.0',\n",
       " '4.0',\n",
       " '4.0',\n",
       " '5.0',\n",
       " '3.0',\n",
       " '4.0',\n",
       " '4.0',\n",
       " '4.0',\n",
       " '4.0',\n",
       " '5.0',\n",
       " '5.0',\n",
       " '5.0',\n",
       " '4.0',\n",
       " '4.0',\n",
       " '4.0',\n",
       " '5.0',\n",
       " '2.0',\n",
       " '4.0',\n",
       " '4.0',\n",
       " '4.0',\n",
       " '4.0',\n",
       " '4.0',\n",
       " '4.0',\n",
       " '4.0',\n",
       " '3.0',\n",
       " '5.0',\n",
       " '5.0',\n",
       " '5.0',\n",
       " '4.0',\n",
       " '2.0',\n",
       " '3.0',\n",
       " '4.0',\n",
       " '4.0',\n",
       " '3.0',\n",
       " '5.0',\n",
       " '5.0',\n",
       " '4.0',\n",
       " '4.0',\n",
       " '5.0',\n",
       " '4.0',\n",
       " '4.0',\n",
       " '5.0',\n",
       " '5.0',\n",
       " '4.0',\n",
       " '4.0',\n",
       " '5.0',\n",
       " '4.0',\n",
       " '4.0',\n",
       " '4.0',\n",
       " '5.0',\n",
       " '5.0',\n",
       " '5.0',\n",
       " '5.0',\n",
       " '4.0',\n",
       " '5.0',\n",
       " '5.0',\n",
       " '5.0',\n",
       " '4.0',\n",
       " '4.0',\n",
       " '3.0',\n",
       " '5.0',\n",
       " '3.0',\n",
       " '4.0',\n",
       " '3.0',\n",
       " '3.0',\n",
       " '5.0',\n",
       " '4.0',\n",
       " '5.0',\n",
       " '4.0',\n",
       " '5.0',\n",
       " '4.0',\n",
       " '3.0',\n",
       " '4.0',\n",
       " '3.0',\n",
       " '5.0',\n",
       " '5.0',\n",
       " '4.0',\n",
       " '5.0',\n",
       " '4.0',\n",
       " '5.0',\n",
       " '4.0',\n",
       " '4.0',\n",
       " '3.0',\n",
       " '4.0',\n",
       " '4.0',\n",
       " '5.0',\n",
       " '5.0',\n",
       " '4.0',\n",
       " '5.0',\n",
       " '5.0',\n",
       " '4.0',\n",
       " '4.0',\n",
       " '4.0',\n",
       " '3.0',\n",
       " '5.0',\n",
       " '4.0',\n",
       " '5.0',\n",
       " '5.0',\n",
       " '5.0',\n",
       " '5.0',\n",
       " '5.0',\n",
       " '5.0',\n",
       " '4.0',\n",
       " '5.0',\n",
       " '4.0',\n",
       " '3.0',\n",
       " '4.0',\n",
       " '5.0',\n",
       " '5.0',\n",
       " '3.0',\n",
       " '4.0',\n",
       " '5.0',\n",
       " '5.0',\n",
       " '5.0',\n",
       " '5.0',\n",
       " '4.0',\n",
       " '5.0',\n",
       " '3.0',\n",
       " '3.0',\n",
       " '5.0',\n",
       " '5.0',\n",
       " '5.0',\n",
       " '5.0',\n",
       " '4.0',\n",
       " '5.0',\n",
       " '5.0',\n",
       " '5.0',\n",
       " '4.0',\n",
       " '5.0',\n",
       " '4.0',\n",
       " '4.0',\n",
       " '4.0',\n",
       " '2.0',\n",
       " '4.0',\n",
       " '5.0',\n",
       " '5.0',\n",
       " '5.0',\n",
       " '5.0',\n",
       " '1.0',\n",
       " '5.0',\n",
       " '4.0',\n",
       " '5.0',\n",
       " '5.0',\n",
       " '3.0',\n",
       " '5.0',\n",
       " '4.0',\n",
       " '5.0',\n",
       " '5.0',\n",
       " '4.0',\n",
       " '5.0',\n",
       " '4.0',\n",
       " '4.0',\n",
       " '5.0',\n",
       " '5.0',\n",
       " '5.0',\n",
       " '3.0',\n",
       " '5.0',\n",
       " '5.0',\n",
       " '5.0',\n",
       " '4.0',\n",
       " '4.0',\n",
       " '3.0',\n",
       " '4.0',\n",
       " '4.0',\n",
       " '3.0',\n",
       " '4.0',\n",
       " '4.0',\n",
       " '5.0',\n",
       " '4.0',\n",
       " '3.0',\n",
       " '1.0',\n",
       " '4.0',\n",
       " '4.0',\n",
       " '3.0',\n",
       " '4.0',\n",
       " '2.0',\n",
       " '4.0',\n",
       " '2.0',\n",
       " '2.0',\n",
       " '1.0',\n",
       " '4.0',\n",
       " '3.0',\n",
       " '4.0',\n",
       " '3.0',\n",
       " '4.0',\n",
       " '5.0',\n",
       " '4.0',\n",
       " '4.0',\n",
       " '5.0',\n",
       " '5.0',\n",
       " '4.0',\n",
       " '5.0',\n",
       " '5.0',\n",
       " '5.0',\n",
       " '4.0',\n",
       " '3.0',\n",
       " '4.0',\n",
       " '5.0',\n",
       " '3.0',\n",
       " '5.0',\n",
       " '4.0',\n",
       " '4.0',\n",
       " '4.0',\n",
       " '4.0',\n",
       " '1.0',\n",
       " '3.0',\n",
       " '1.0',\n",
       " '4.0',\n",
       " '2.0',\n",
       " '5.0',\n",
       " '3.0',\n",
       " '3.0',\n",
       " '3.0',\n",
       " '5.0',\n",
       " '5.0',\n",
       " '4.0',\n",
       " '5.0',\n",
       " '5.0',\n",
       " '5.0',\n",
       " '3.0',\n",
       " '5.0',\n",
       " '5.0',\n",
       " '4.0',\n",
       " '4.0',\n",
       " '3.0',\n",
       " '5.0',\n",
       " '4.0',\n",
       " '5.0',\n",
       " '5.0',\n",
       " '5.0',\n",
       " '4.0',\n",
       " '5.0',\n",
       " '2.0',\n",
       " '5.0',\n",
       " '1.0',\n",
       " '5.0',\n",
       " '4.0',\n",
       " '3.0',\n",
       " '1.0',\n",
       " '4.0',\n",
       " '5.0',\n",
       " '3.0',\n",
       " '5.0',\n",
       " '3.0',\n",
       " '4.0',\n",
       " '5.0',\n",
       " '5.0',\n",
       " '4.0',\n",
       " '4.0',\n",
       " '5.0',\n",
       " '2.0',\n",
       " '4.0',\n",
       " '5.0',\n",
       " '3.0',\n",
       " '4.0',\n",
       " '5.0',\n",
       " '5.0',\n",
       " '5.0',\n",
       " '2.0',\n",
       " '3.0',\n",
       " '4.0',\n",
       " '4.0',\n",
       " '5.0',\n",
       " '4.0',\n",
       " '5.0',\n",
       " '5.0',\n",
       " '4.0',\n",
       " '5.0',\n",
       " '4.0',\n",
       " '5.0',\n",
       " '4.0',\n",
       " '5.0',\n",
       " '4.0',\n",
       " '5.0',\n",
       " '4.0',\n",
       " '4.0',\n",
       " '4.0',\n",
       " '5.0',\n",
       " '5.0',\n",
       " '5.0',\n",
       " '5.0',\n",
       " '5.0',\n",
       " '4.0',\n",
       " '5.0',\n",
       " '5.0',\n",
       " '3.0',\n",
       " '3.0',\n",
       " '4.0',\n",
       " '3.0',\n",
       " '4.0',\n",
       " '3.0',\n",
       " '5.0',\n",
       " '5.0',\n",
       " '4.0',\n",
       " '4.0',\n",
       " '5.0',\n",
       " '5.0',\n",
       " '5.0',\n",
       " '4.0',\n",
       " '5.0',\n",
       " '3.0',\n",
       " '5.0',\n",
       " '5.0',\n",
       " '1.0',\n",
       " '4.0',\n",
       " '4.0',\n",
       " '4.0',\n",
       " '5.0',\n",
       " '3.0',\n",
       " '5.0',\n",
       " '3.0',\n",
       " '2.0',\n",
       " '4.0',\n",
       " '3.0',\n",
       " '3.0',\n",
       " '3.0',\n",
       " '5.0',\n",
       " '5.0',\n",
       " '5.0',\n",
       " '5.0',\n",
       " '5.0',\n",
       " '5.0',\n",
       " '4.0',\n",
       " '5.0',\n",
       " '4.0',\n",
       " '4.0',\n",
       " '3.0',\n",
       " '4.0',\n",
       " '3.0',\n",
       " '5.0',\n",
       " '3.0',\n",
       " '4.0',\n",
       " '4.0',\n",
       " '5.0',\n",
       " '4.0',\n",
       " '5.0',\n",
       " '5.0',\n",
       " '2.0',\n",
       " '4.0',\n",
       " '5.0',\n",
       " '4.0',\n",
       " '3.0',\n",
       " '3.0',\n",
       " '5.0',\n",
       " '5.0',\n",
       " '4.0',\n",
       " '5.0',\n",
       " '4.0',\n",
       " '5.0',\n",
       " '3.0',\n",
       " '4.0',\n",
       " '4.0',\n",
       " '4.0',\n",
       " '4.0',\n",
       " '5.0',\n",
       " '4.0',\n",
       " '4.0',\n",
       " '5.0',\n",
       " '4.0',\n",
       " '3.0',\n",
       " '5.0',\n",
       " '5.0',\n",
       " '5.0',\n",
       " '1.0',\n",
       " '5.0',\n",
       " '5.0',\n",
       " '4.0',\n",
       " '5.0',\n",
       " '4.0',\n",
       " '5.0',\n",
       " '4.0',\n",
       " '2.0',\n",
       " '5.0',\n",
       " '4.0',\n",
       " '4.0',\n",
       " '5.0',\n",
       " '4.0',\n",
       " '4.0',\n",
       " '3.0',\n",
       " '5.0',\n",
       " '3.0',\n",
       " '4.0',\n",
       " '4.0',\n",
       " '2.0',\n",
       " '3.0',\n",
       " '3.0',\n",
       " '4.0',\n",
       " '5.0',\n",
       " '4.0',\n",
       " '4.0',\n",
       " '3.0',\n",
       " '3.0',\n",
       " '5.0',\n",
       " '4.0',\n",
       " '5.0',\n",
       " '4.0',\n",
       " '5.0',\n",
       " '5.0',\n",
       " '5.0',\n",
       " '4.0',\n",
       " '3.0',\n",
       " '4.0',\n",
       " '5.0',\n",
       " '5.0',\n",
       " '4.0',\n",
       " '5.0',\n",
       " '3.0',\n",
       " '4.0',\n",
       " '4.0',\n",
       " '4.0',\n",
       " '3.0',\n",
       " '4.0',\n",
       " '5.0',\n",
       " '4.0',\n",
       " '4.0',\n",
       " '5.0',\n",
       " '4.0',\n",
       " '3.0',\n",
       " '5.0',\n",
       " '5.0',\n",
       " '5.0',\n",
       " '4.0',\n",
       " '3.0',\n",
       " '4.0',\n",
       " '4.0',\n",
       " '5.0',\n",
       " '4.0',\n",
       " '5.0',\n",
       " '4.0',\n",
       " '3.0',\n",
       " '3.0',\n",
       " '5.0',\n",
       " '5.0',\n",
       " '4.0',\n",
       " '2.0',\n",
       " '4.0',\n",
       " '5.0',\n",
       " '2.0',\n",
       " '4.0',\n",
       " '4.0',\n",
       " '4.0',\n",
       " '4.0',\n",
       " '4.0',\n",
       " '4.0',\n",
       " '4.0',\n",
       " '3.0',\n",
       " '3.0',\n",
       " '3.0',\n",
       " '4.0',\n",
       " '4.0',\n",
       " '3.0',\n",
       " '5.0',\n",
       " '3.0',\n",
       " '4.0',\n",
       " '4.0',\n",
       " '5.0',\n",
       " '5.0',\n",
       " '5.0',\n",
       " '4.0',\n",
       " '4.0',\n",
       " '2.0',\n",
       " '2.0',\n",
       " '4.0',\n",
       " '5.0',\n",
       " '2.0',\n",
       " '4.0',\n",
       " '4.0',\n",
       " '4.0',\n",
       " '4.0',\n",
       " '4.0',\n",
       " '3.0',\n",
       " '3.0',\n",
       " '4.0',\n",
       " '5.0',\n",
       " '5.0',\n",
       " '5.0',\n",
       " '5.0',\n",
       " '4.0',\n",
       " '4.0',\n",
       " '4.0',\n",
       " '4.0',\n",
       " '3.0',\n",
       " '4.0',\n",
       " '3.0',\n",
       " '3.0',\n",
       " '5.0',\n",
       " '2.0',\n",
       " '4.0',\n",
       " '5.0',\n",
       " '5.0',\n",
       " '3.0',\n",
       " '4.0',\n",
       " '5.0',\n",
       " '3.0',\n",
       " '4.0',\n",
       " '5.0',\n",
       " '5.0',\n",
       " '4.0',\n",
       " '4.0',\n",
       " '5.0',\n",
       " '3.0',\n",
       " '5.0',\n",
       " '3.0',\n",
       " '4.0',\n",
       " '3.0',\n",
       " '5.0',\n",
       " '4.0',\n",
       " '5.0',\n",
       " '5.0',\n",
       " '5.0',\n",
       " '4.0',\n",
       " '5.0',\n",
       " '4.0',\n",
       " '3.0',\n",
       " '5.0',\n",
       " '3.0',\n",
       " '4.0',\n",
       " '5.0',\n",
       " '5.0',\n",
       " '5.0',\n",
       " '4.0',\n",
       " '4.0',\n",
       " '5.0',\n",
       " '4.0',\n",
       " '3.0',\n",
       " '4.0',\n",
       " '5.0',\n",
       " '2.0',\n",
       " '5.0',\n",
       " '5.0',\n",
       " '4.0',\n",
       " '4.0',\n",
       " '5.0',\n",
       " '4.0',\n",
       " '5.0',\n",
       " '5.0',\n",
       " '4.0',\n",
       " '4.0',\n",
       " '4.0',\n",
       " '4.0',\n",
       " '5.0',\n",
       " '5.0',\n",
       " '4.0',\n",
       " '4.0',\n",
       " '4.0',\n",
       " '3.0',\n",
       " '3.0',\n",
       " '5.0',\n",
       " '5.0',\n",
       " '4.0',\n",
       " '4.0',\n",
       " '5.0',\n",
       " '4.0',\n",
       " '4.0',\n",
       " '5.0',\n",
       " '5.0',\n",
       " '4.0',\n",
       " '3.0',\n",
       " '4.0',\n",
       " '3.0',\n",
       " '5.0',\n",
       " '4.0',\n",
       " '3.0',\n",
       " '3.0',\n",
       " '5.0',\n",
       " '4.0',\n",
       " '4.0',\n",
       " '4.0',\n",
       " '4.0',\n",
       " '3.0',\n",
       " '3.0',\n",
       " '4.0',\n",
       " '4.0',\n",
       " '5.0',\n",
       " '3.0',\n",
       " '5.0',\n",
       " '4.0',\n",
       " '3.0',\n",
       " '5.0',\n",
       " '5.0',\n",
       " '4.0',\n",
       " '3.0',\n",
       " '3.0',\n",
       " '5.0',\n",
       " '4.0',\n",
       " '5.0',\n",
       " '4.0',\n",
       " '5.0',\n",
       " '3.0',\n",
       " '5.0',\n",
       " '3.0',\n",
       " '5.0',\n",
       " '4.0',\n",
       " '5.0',\n",
       " '5.0',\n",
       " '5.0',\n",
       " '5.0',\n",
       " '4.0',\n",
       " '4.0',\n",
       " '5.0',\n",
       " '4.0',\n",
       " '4.0',\n",
       " '4.0',\n",
       " '3.0',\n",
       " '4.0',\n",
       " '3.0',\n",
       " '4.0',\n",
       " '4.0',\n",
       " '4.0',\n",
       " '5.0',\n",
       " '4.0',\n",
       " '5.0',\n",
       " '4.0',\n",
       " '5.0',\n",
       " '4.0',\n",
       " '5.0',\n",
       " '3.0',\n",
       " '3.0',\n",
       " '4.0',\n",
       " '4.0',\n",
       " '5.0',\n",
       " '5.0',\n",
       " '4.0',\n",
       " '5.0',\n",
       " '3.0',\n",
       " '4.0',\n",
       " '3.0',\n",
       " '5.0',\n",
       " '5.0',\n",
       " '5.0',\n",
       " '3.0',\n",
       " '5.0',\n",
       " '5.0',\n",
       " '1.0',\n",
       " '5.0',\n",
       " '4.0',\n",
       " '3.0',\n",
       " '5.0',\n",
       " '4.0',\n",
       " '5.0',\n",
       " '4.0',\n",
       " '4.0',\n",
       " '4.0',\n",
       " '1.0',\n",
       " '1.0',\n",
       " '4.0',\n",
       " '5.0',\n",
       " '5.0',\n",
       " '5.0',\n",
       " '5.0',\n",
       " '5.0',\n",
       " '4.0',\n",
       " '4.0',\n",
       " '4.0',\n",
       " '5.0',\n",
       " '4.0',\n",
       " '4.0',\n",
       " '4.0',\n",
       " '5.0',\n",
       " '3.0',\n",
       " '5.0',\n",
       " '4.0',\n",
       " '3.0',\n",
       " '5.0',\n",
       " '3.0',\n",
       " '4.0',\n",
       " '5.0',\n",
       " '5.0',\n",
       " '3.0',\n",
       " '4.0',\n",
       " '5.0',\n",
       " '4.0',\n",
       " '5.0',\n",
       " '5.0',\n",
       " '5.0',\n",
       " '5.0',\n",
       " '5.0',\n",
       " '4.0',\n",
       " '2.0',\n",
       " '4.0',\n",
       " '5.0',\n",
       " '5.0',\n",
       " '5.0',\n",
       " '5.0',\n",
       " '5.0',\n",
       " '2.0',\n",
       " '2.0',\n",
       " '4.0',\n",
       " '5.0',\n",
       " '5.0',\n",
       " '3.0',\n",
       " '5.0',\n",
       " '5.0',\n",
       " '4.0',\n",
       " '5.0',\n",
       " '5.0',\n",
       " '5.0',\n",
       " '5.0',\n",
       " '5.0',\n",
       " '4.0',\n",
       " '5.0',\n",
       " '4.0',\n",
       " '5.0',\n",
       " '3.0',\n",
       " '5.0',\n",
       " '3.0',\n",
       " '4.0',\n",
       " '5.0',\n",
       " '5.0',\n",
       " '4.0',\n",
       " '5.0',\n",
       " '3.0',\n",
       " '5.0',\n",
       " '5.0',\n",
       " '4.0',\n",
       " '5.0',\n",
       " '3.0',\n",
       " '5.0',\n",
       " '4.0',\n",
       " '5.0',\n",
       " '5.0',\n",
       " '5.0',\n",
       " '4.0',\n",
       " ...]"
      ]
     },
     "execution_count": 87,
     "metadata": {},
     "output_type": "execute_result"
    }
   ],
   "source": [
    "y.to_list()"
   ]
  },
  {
   "cell_type": "code",
   "execution_count": 88,
   "metadata": {},
   "outputs": [
    {
     "data": {
      "text/html": [
       "<div>\n",
       "<style scoped>\n",
       "    .dataframe tbody tr th:only-of-type {\n",
       "        vertical-align: middle;\n",
       "    }\n",
       "\n",
       "    .dataframe tbody tr th {\n",
       "        vertical-align: top;\n",
       "    }\n",
       "\n",
       "    .dataframe thead th {\n",
       "        text-align: right;\n",
       "    }\n",
       "</style>\n",
       "<table border=\"1\" class=\"dataframe\">\n",
       "  <thead>\n",
       "    <tr style=\"text-align: right;\">\n",
       "      <th></th>\n",
       "      <th>Star</th>\n",
       "      <th>Number Of Reviews</th>\n",
       "      <th>Percentage</th>\n",
       "    </tr>\n",
       "  </thead>\n",
       "  <tbody>\n",
       "    <tr>\n",
       "      <th>0</th>\n",
       "      <td>1.0</td>\n",
       "      <td>223</td>\n",
       "      <td>3.716667</td>\n",
       "    </tr>\n",
       "    <tr>\n",
       "      <th>1</th>\n",
       "      <td>2.0</td>\n",
       "      <td>252</td>\n",
       "      <td>4.200000</td>\n",
       "    </tr>\n",
       "    <tr>\n",
       "      <th>2</th>\n",
       "      <td>3.0</td>\n",
       "      <td>647</td>\n",
       "      <td>10.783333</td>\n",
       "    </tr>\n",
       "    <tr>\n",
       "      <th>3</th>\n",
       "      <td>4.0</td>\n",
       "      <td>1684</td>\n",
       "      <td>28.066667</td>\n",
       "    </tr>\n",
       "    <tr>\n",
       "      <th>4</th>\n",
       "      <td>5.0</td>\n",
       "      <td>3194</td>\n",
       "      <td>53.233333</td>\n",
       "    </tr>\n",
       "  </tbody>\n",
       "</table>\n",
       "</div>"
      ],
      "text/plain": [
       "  Star  Number Of Reviews  Percentage\n",
       "0  1.0                223    3.716667\n",
       "1  2.0                252    4.200000\n",
       "2  3.0                647   10.783333\n",
       "3  4.0               1684   28.066667\n",
       "4  5.0               3194   53.233333"
      ]
     },
     "execution_count": 88,
     "metadata": {},
     "output_type": "execute_result"
    }
   ],
   "source": [
    "data_distribution ={'1.0':0,'2.0':0,'3.0':0,'4.0':0,'5.0':0}\n",
    "for attr in y.to_list():\n",
    "    if attr in data_distribution.keys():\n",
    "        data_distribution[attr] += 1\n",
    "    else:\n",
    "        data_distribution[attr] = 1\n",
    "data_distribution\n",
    "percentage=[]\n",
    "    \n",
    "\n",
    "    \n",
    "rating=[]\n",
    "count=[]\n",
    "for c in data_distribution.keys():\n",
    "    rating.append(c)\n",
    "for c in data_distribution.values():\n",
    "    count.append(c)   \n",
    "total=y.count()\n",
    "\n",
    "for c in count:\n",
    "    percentage.append(100*c/total)\n",
    "    \n",
    "data={\"Star\":rating,\n",
    "       \"Number Of Reviews\":count,\n",
    "       \"Percentage\":percentage\n",
    "     }\n",
    "new = pd.DataFrame.from_dict(data)\n",
    "new"
   ]
  },
  {
   "cell_type": "code",
   "execution_count": 89,
   "metadata": {},
   "outputs": [
    {
     "data": {
      "image/png": "[encoded data removed]",
      "text/plain": [
       "<Figure size 720x504 with 1 Axes>"
      ]
     },
     "metadata": {},
     "output_type": "display_data"
    }
   ],
   "source": [
    "fig = plt.figure(figsize =(10, 7))\n",
    "plt.pie(percentage, autopct='%1.1f%%',labels = rating)\n",
    "plt.legend(title = \"Ratings\")\n",
    "# show plot\n",
    "plt.show()"
   ]
  },
  {
   "cell_type": "code",
   "execution_count": null,
   "metadata": {},
   "outputs": [],
   "source": []
  }
 ],
 "metadata": {
  "kernelspec": {
   "display_name": "Python 3",
   "language": "python",
   "name": "python3"
  },
  "language_info": {
   "codemirror_mode": {
    "name": "ipython",
    "version": 3
   },
   "file_extension": ".py",
   "mimetype": "text/x-python",
   "name": "python",
   "nbconvert_exporter": "python",
   "pygments_lexer": "ipython3",
   "version": "3.7.6"
  }
 },
 "nbformat": 4,
 "nbformat_minor": 2
}
